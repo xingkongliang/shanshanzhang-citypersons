{
 "cells": [
  {
   "cell_type": "code",
   "execution_count": 2,
   "metadata": {},
   "outputs": [],
   "source": [
    "try:\n",
    "    import moxing as mox\n",
    "    mox.file.shift('os', 'mox')\n",
    "    IS_IN_SERVICES = True\n",
    "except:\n",
    "    IS_IN_SERVICES = False"
   ]
  },
  {
   "cell_type": "code",
   "execution_count": 3,
   "metadata": {},
   "outputs": [],
   "source": [
    "import os"
   ]
  },
  {
   "cell_type": "code",
   "execution_count": null,
   "metadata": {},
   "outputs": [],
   "source": [
    "os.chidir(\"/home/work/obscache/Cloud/Python_Projects/shanshanzhang-citypersons-master/evaluation/eval_script\")\n",
    "!ls"
   ]
  },
  {
   "cell_type": "code",
   "execution_count": 4,
   "metadata": {},
   "outputs": [],
   "source": [
    "from coco_citypersons import COCO_citypersons\n",
    "from eval_MR_multisetup import COCOeval_citypersons\n",
    "import os"
   ]
  },
  {
   "cell_type": "code",
   "execution_count": 5,
   "metadata": {},
   "outputs": [],
   "source": [
    "classes = [\n",
    "    'Average Miss Rate  (MR) @ Reasonable         [ IoU=0.50',\n",
    "    'Average Miss Rate  (MR) @ Reasonable_small',\n",
    "    'Average Miss Rate  (MR) @ Reasonable_occ=heavy',\n",
    "    'Average Miss Rate  (MR) @ All                [ IoU=0.50',\n",
    "    'Average Miss Rate  (MR) @ All-50',\n",
    "    'Average Miss Rate  (MR) @ R_occ=None',\n",
    "    'Average Miss Rate  (MR) @ R_occ=Partial',\n",
    "    'Average Miss Rate  (MR) @ R_occ=heaavy ',\n",
    "    'Average Miss Rate  (MR) @ Heavy',\n",
    "    'Average Miss Rate  (MR) @ Partial',\n",
    "    'Average Miss Rate  (MR) @ Bare',\n",
    "]"
   ]
  },
  {
   "cell_type": "code",
   "execution_count": null,
   "metadata": {},
   "outputs": [],
   "source": [
    "annType = 'bbox'      #specify type here\n",
    "# print('Running demo for *%s* results.'%(annType))\n",
    "# iterations = [5000, 10000, 15000, 20000, 25000, 30000, 35000, 40000, 45000, 50000]\n",
    "iterations = [30000]\n",
    "version = 'v18_01'\n",
    "\n",
    "# iteration = 30000\n",
    "for iteration in iterations:\n",
    "    print(version, iteration)\n",
    "    val_dataset = 'citypersons_o20h20_val'\n",
    "    root = 's2://bucket-7000/zhangtianliang/Output/inference'\n",
    "    cfg_file = \"e2e_faster_rcnn_R_50_C4_1x_1_gpu_citypersons_{}\".format(version)\n",
    "\n",
    "    if \"8_gpu\" in cfg_file:\n",
    "        res_dir = os.path.join(root, cfg_file, val_dataset, 'bbox.json')\n",
    "        output_dir = os.path.join(root, cfg_file, val_dataset, 'bbox_2.txt')\n",
    "    else:\n",
    "        res_dir = os.path.join(root, cfg_file, val_dataset, str(iteration), 'bbox.json')\n",
    "        output_dir = os.path.join(root, cfg_file, val_dataset, str(iteration), 'bbox_2.txt')\n",
    "    annFile = '../val_gt.json'\n",
    "    # running evaluation\n",
    "    res_file = open(output_dir, \"w\")\n",
    "    res = []\n",
    "    for id_setup in range(0, 11):\n",
    "        cocoGt = COCO_citypersons(annFile)\n",
    "        cocoDt = cocoGt.loadRes(res_dir)\n",
    "        imgIds = sorted(cocoGt.getImgIds())\n",
    "        cocoEval = COCOeval_citypersons(cocoGt, cocoDt, annType)\n",
    "        cocoEval.params.imgIds = imgIds\n",
    "        cocoEval.evaluate(id_setup)\n",
    "        cocoEval.accumulate(id_setup)\n",
    "        out = cocoEval.summarize(id_setup, res_file)\n",
    "        res.extend(out)\n",
    "    for cls in classes:\n",
    "        for r in res:\n",
    "            if cls in r:\n",
    "                print(r.split(' ')[-1][:-1])\n",
    "                res_file.write(r.split(' ')[-1][:-1])\n",
    "                res_file.write('\\n')\n",
    "    res_file.close()\n",
    "    print(60*'*')"
   ]
  }
 ],
 "metadata": {
  "kernelspec": {
   "display_name": "Python 3",
   "language": "python",
   "name": "python3"
  },
  "language_info": {
   "codemirror_mode": {
    "name": "ipython",
    "version": 3
   },
   "file_extension": ".py",
   "mimetype": "text/x-python",
   "name": "python",
   "nbconvert_exporter": "python",
   "pygments_lexer": "ipython3",
   "version": "3.7.1"
  }
 },
 "nbformat": 4,
 "nbformat_minor": 2
}
