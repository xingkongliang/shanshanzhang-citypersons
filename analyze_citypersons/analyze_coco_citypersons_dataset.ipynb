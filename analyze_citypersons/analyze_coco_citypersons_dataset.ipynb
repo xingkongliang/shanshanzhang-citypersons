{
 "cells": [
  {
   "cell_type": "code",
   "execution_count": 1,
   "metadata": {},
   "outputs": [],
   "source": [
    "from __future__ import absolute_import\n",
    "from __future__ import division\n",
    "from __future__ import print_function\n",
    "from __future__ import unicode_literals\n",
    "\n",
    "import numpy as np\n",
    "import pandas as pd\n",
    "from pandas.plotting import scatter_matrix\n",
    "\n",
    "import seaborn as sns\n",
    "sns.set(color_codes=True)\n",
    "import matplotlib.pyplot as plt\n",
    "\n",
    "import json\n",
    "import os\n",
    "import pprint\n",
    "import collections\n",
    "# COCO API\n",
    "from pycocotools import mask as COCOmask\n",
    "from pycocotools.coco import COCO"
   ]
  },
  {
   "cell_type": "code",
   "execution_count": 2,
   "metadata": {},
   "outputs": [],
   "source": [
    "category_to_id = {\n",
    "    'pedestrian': 1,\n",
    "}\n",
    "category_instancesonly = [\n",
    "    'pedestrian',\n",
    "]"
   ]
  },
  {
   "cell_type": "markdown",
   "metadata": {},
   "source": [
    "# Cityscapes 训练集数据分析\n",
    "## 读取文件"
   ]
  },
  {
   "cell_type": "code",
   "execution_count": 3,
   "metadata": {},
   "outputs": [
    {
     "name": "stdout",
     "output_type": "stream",
     "text": [
      "读取标注文件:  ../json_annotations/citypersons_train.json\n",
      "json文件字典中的关键字:  dict_keys(['images', 'info', 'type', 'annotations', 'categories'])\n"
     ]
    }
   ],
   "source": [
    "root_dir = '../json_annotations'\n",
    "json_name = 'citypersons_train.json'\n",
    "json_file = os.path.join(root_dir, json_name)\n",
    "print('读取标注文件: ', json_file)\n",
    "anns = json.load(open(json_file))\n",
    "print('json文件字典中的关键字: ', anns.keys())\n",
    "# coco = COCO(json_file)\n"
   ]
  },
  {
   "cell_type": "markdown",
   "metadata": {},
   "source": [
    "## 标注文件格式分析"
   ]
  },
  {
   "cell_type": "code",
   "execution_count": 4,
   "metadata": {
    "scrolled": true
   },
   "outputs": [
    {
     "name": "stdout",
     "output_type": "stream",
     "text": [
      "annotations 中的关键字: dict_keys(['ignore', 'image_id', 'segmentation', 'bbox', 'area', 'posv', 'category_id', 'iscrowd', 'id'])\n",
      "类别: \n",
      "[{'id': 1, 'name': 'pedestrian', 'supercategory': 'pedestrian'}]\n",
      "包含图片的数量:  2975\n",
      "包含示例的数量:  27770\n"
     ]
    }
   ],
   "source": [
    "print('annotations 中的关键字:', anns['annotations'][0].keys())\n",
    "print('类别: ')\n",
    "pprint.pprint(anns['categories'])\n",
    "print('包含图片的数量: ', len(anns['images']))\n",
    "print('包含示例的数量: ', len(anns['annotations']))"
   ]
  },
  {
   "cell_type": "markdown",
   "metadata": {},
   "source": [
    "# 使用pandas转成DataFrame类型的数据格式"
   ]
  },
  {
   "cell_type": "code",
   "execution_count": 5,
   "metadata": {},
   "outputs": [
    {
     "name": "stdout",
     "output_type": "stream",
     "text": [
      "{'supercategory': 'pedestrian', 'id': 1, 'name': 'pedestrian'}\n",
      "{'1': 'pedestrian'}\n"
     ]
    }
   ],
   "source": [
    "id_to_category = {}\n",
    "for object_cls in anns['categories']:\n",
    "    print(object_cls)\n",
    "    if str(object_cls['id']) not in id_to_category:\n",
    "        id_to_category[str(object_cls['id'])] = object_cls['name']\n",
    "print(id_to_category)"
   ]
  },
  {
   "cell_type": "code",
   "execution_count": 6,
   "metadata": {},
   "outputs": [],
   "source": [
    "def map_rois_to_fpn_levels(areas, k_min=2, k_max=6):\n",
    "    \"\"\"Determine which FPN level each RoI in a set of RoIs should map to based\n",
    "    on the heuristic in the FPN paper.\n",
    "    \"\"\"\n",
    "    # Compute level ids\n",
    "    s = np.sqrt(areas)\n",
    "    s0 = 224  # default: 224\n",
    "    lvl0 = 4  # default: 4\n",
    "\n",
    "    # Eqn.(1) in FPN paper\n",
    "    target_lvls = np.floor(lvl0 + np.log2(s / s0 + 1e-6))\n",
    "    target_lvls = np.clip(target_lvls, k_min, k_max)\n",
    "    return target_lvls"
   ]
  },
  {
   "cell_type": "code",
   "execution_count": 7,
   "metadata": {},
   "outputs": [
    {
     "name": "stdout",
     "output_type": "stream",
     "text": [
      "   category_num    category    x1   y1   w    h    aspect  log_aspect  area  \\\n",
      "0             1  pedestrian   892  445  21   53  0.396226    -0.27029  1113   \n",
      "1             1  pedestrian   901  443  34   55  0.618182    -0.27029  1870   \n",
      "2             1  pedestrian  1844  436  44  106  0.415094    -0.27029  4664   \n",
      "3             1  pedestrian  1025  215  28   34  0.823529    -0.27029   952   \n",
      "4             1  pedestrian   877  383  14   26  0.538462    -0.27029   364   \n",
      "\n",
      "    log_area  sqrt_area  target_lvls  \n",
      "0  10.120238  33.361655          2.0  \n",
      "1  10.868823  43.243497          2.0  \n",
      "2  12.187352  68.293484          2.0  \n",
      "3   9.894818  30.854497          2.0  \n",
      "4   8.507795  19.078784          2.0  \n"
     ]
    }
   ],
   "source": [
    "bboxes = np.empty((len(anns['annotations']), 9))\n",
    "dic = collections.OrderedDict()\n",
    "dic['category_num'] = []\n",
    "dic['category'] = []\n",
    "dic['x1'] = []\n",
    "dic['y1'] = []\n",
    "dic['w'] = []\n",
    "dic['h'] = []\n",
    "dic['aspect'] = []\n",
    "dic['log_aspect'] = []\n",
    "dic['area'] = []\n",
    "dic['log_area'] = []\n",
    "dic['sqrt_area'] = []\n",
    "dic['target_lvls'] = []\n",
    "for i in range(len(anns['annotations'])):\n",
    "    bbox = anns['annotations'][i]['bbox']\n",
    "    dic['category_num'].append(anns['annotations'][i]['category_id'])\n",
    "    dic['category'].append(id_to_category[str(anns['annotations'][i]['category_id'])])\n",
    "    dic['x1'].append(bbox[0])\n",
    "    dic['y1'].append(bbox[1])\n",
    "    dic['w'].append(bbox[2])\n",
    "    dic['h'].append(bbox[3])\n",
    "    dic['aspect'].append(float(bbox[2])/float(bbox[3]))\n",
    "    dic['log_aspect']= np.log(float(bbox[2])/float(bbox[3]))\n",
    "    dic['area'].append(anns['annotations'][i]['area'])\n",
    "    dic['log_area'].append(np.log2(anns['annotations'][i]['area']))\n",
    "    dic['sqrt_area'].append(np.sqrt(anns['annotations'][i]['area']))\n",
    "    dic['target_lvls'].append(map_rois_to_fpn_levels(anns['annotations'][i]['area'], k_min=2, k_max=5))\n",
    "\n",
    "df = pd.DataFrame(dic)\n",
    "\n",
    "print(df.head())"
   ]
  },
  {
   "cell_type": "code",
   "execution_count": 8,
   "metadata": {
    "scrolled": false
   },
   "outputs": [
    {
     "data": {
      "text/html": [
       "<div>\n",
       "<style scoped>\n",
       "    .dataframe tbody tr th:only-of-type {\n",
       "        vertical-align: middle;\n",
       "    }\n",
       "\n",
       "    .dataframe tbody tr th {\n",
       "        vertical-align: top;\n",
       "    }\n",
       "\n",
       "    .dataframe thead th {\n",
       "        text-align: right;\n",
       "    }\n",
       "</style>\n",
       "<table border=\"1\" class=\"dataframe\">\n",
       "  <thead>\n",
       "    <tr style=\"text-align: right;\">\n",
       "      <th></th>\n",
       "      <th>category_num</th>\n",
       "      <th>category</th>\n",
       "      <th>x1</th>\n",
       "      <th>y1</th>\n",
       "      <th>w</th>\n",
       "      <th>h</th>\n",
       "      <th>aspect</th>\n",
       "      <th>log_aspect</th>\n",
       "      <th>area</th>\n",
       "      <th>log_area</th>\n",
       "      <th>sqrt_area</th>\n",
       "      <th>target_lvls</th>\n",
       "    </tr>\n",
       "  </thead>\n",
       "  <tbody>\n",
       "    <tr>\n",
       "      <th>0</th>\n",
       "      <td>1</td>\n",
       "      <td>pedestrian</td>\n",
       "      <td>892</td>\n",
       "      <td>445</td>\n",
       "      <td>21</td>\n",
       "      <td>53</td>\n",
       "      <td>0.396226</td>\n",
       "      <td>-0.27029</td>\n",
       "      <td>1113</td>\n",
       "      <td>10.120238</td>\n",
       "      <td>33.361655</td>\n",
       "      <td>2.0</td>\n",
       "    </tr>\n",
       "    <tr>\n",
       "      <th>1</th>\n",
       "      <td>1</td>\n",
       "      <td>pedestrian</td>\n",
       "      <td>901</td>\n",
       "      <td>443</td>\n",
       "      <td>34</td>\n",
       "      <td>55</td>\n",
       "      <td>0.618182</td>\n",
       "      <td>-0.27029</td>\n",
       "      <td>1870</td>\n",
       "      <td>10.868823</td>\n",
       "      <td>43.243497</td>\n",
       "      <td>2.0</td>\n",
       "    </tr>\n",
       "    <tr>\n",
       "      <th>2</th>\n",
       "      <td>1</td>\n",
       "      <td>pedestrian</td>\n",
       "      <td>1844</td>\n",
       "      <td>436</td>\n",
       "      <td>44</td>\n",
       "      <td>106</td>\n",
       "      <td>0.415094</td>\n",
       "      <td>-0.27029</td>\n",
       "      <td>4664</td>\n",
       "      <td>12.187352</td>\n",
       "      <td>68.293484</td>\n",
       "      <td>2.0</td>\n",
       "    </tr>\n",
       "    <tr>\n",
       "      <th>3</th>\n",
       "      <td>1</td>\n",
       "      <td>pedestrian</td>\n",
       "      <td>1025</td>\n",
       "      <td>215</td>\n",
       "      <td>28</td>\n",
       "      <td>34</td>\n",
       "      <td>0.823529</td>\n",
       "      <td>-0.27029</td>\n",
       "      <td>952</td>\n",
       "      <td>9.894818</td>\n",
       "      <td>30.854497</td>\n",
       "      <td>2.0</td>\n",
       "    </tr>\n",
       "    <tr>\n",
       "      <th>4</th>\n",
       "      <td>1</td>\n",
       "      <td>pedestrian</td>\n",
       "      <td>877</td>\n",
       "      <td>383</td>\n",
       "      <td>14</td>\n",
       "      <td>26</td>\n",
       "      <td>0.538462</td>\n",
       "      <td>-0.27029</td>\n",
       "      <td>364</td>\n",
       "      <td>8.507795</td>\n",
       "      <td>19.078784</td>\n",
       "      <td>2.0</td>\n",
       "    </tr>\n",
       "  </tbody>\n",
       "</table>\n",
       "</div>"
      ],
      "text/plain": [
       "   category_num    category    x1   y1   w    h    aspect  log_aspect  area  \\\n",
       "0             1  pedestrian   892  445  21   53  0.396226    -0.27029  1113   \n",
       "1             1  pedestrian   901  443  34   55  0.618182    -0.27029  1870   \n",
       "2             1  pedestrian  1844  436  44  106  0.415094    -0.27029  4664   \n",
       "3             1  pedestrian  1025  215  28   34  0.823529    -0.27029   952   \n",
       "4             1  pedestrian   877  383  14   26  0.538462    -0.27029   364   \n",
       "\n",
       "    log_area  sqrt_area  target_lvls  \n",
       "0  10.120238  33.361655          2.0  \n",
       "1  10.868823  43.243497          2.0  \n",
       "2  12.187352  68.293484          2.0  \n",
       "3   9.894818  30.854497          2.0  \n",
       "4   8.507795  19.078784          2.0  "
      ]
     },
     "execution_count": 8,
     "metadata": {},
     "output_type": "execute_result"
    }
   ],
   "source": [
    "df.head()"
   ]
  },
  {
   "cell_type": "markdown",
   "metadata": {},
   "source": [
    "## 样本分布可视化"
   ]
  },
  {
   "cell_type": "code",
   "execution_count": 9,
   "metadata": {
    "scrolled": false
   },
   "outputs": [
    {
     "name": "stdout",
     "output_type": "stream",
     "text": [
      "class:  pedestrian\n",
      "count    27770.000000\n",
      "mean        39.554447\n",
      "std         36.770864\n",
      "min          1.000000\n",
      "25%         17.000000\n",
      "50%         28.000000\n",
      "75%         49.000000\n",
      "max        478.000000\n",
      "Name: w, dtype: float64\n"
     ]
    },
    {
     "data": {
      "image/png": "[encoded data removed]",
      "text/plain": [
       "<Figure size 432x288 with 1 Axes>"
      ]
     },
     "metadata": {
      "needs_background": "light"
     },
     "output_type": "display_data"
    },
    {
     "name": "stdout",
     "output_type": "stream",
     "text": [
      "count    27770.000000\n",
      "mean        88.999568\n",
      "std         88.693803\n",
      "min          1.000000\n",
      "25%         33.000000\n",
      "50%         61.000000\n",
      "75%        113.000000\n",
      "max        965.000000\n",
      "Name: h, dtype: float64\n"
     ]
    },
    {
     "data": {
      "image/png": "[encoded data removed]",
      "text/plain": [
       "<Figure size 432x288 with 1 Axes>"
      ]
     },
     "metadata": {
      "needs_background": "light"
     },
     "output_type": "display_data"
    },
    {
     "data": {
      "image/png": "[encoded data removed]",
      "text/plain": [
       "<Figure size 432x432 with 3 Axes>"
      ]
     },
     "metadata": {
      "needs_background": "light"
     },
     "output_type": "display_data"
    },
    {
     "name": "stdout",
     "output_type": "stream",
     "text": [
      "--------------------------------------------------------------------------------\n"
     ]
    }
   ],
   "source": [
    "for cls in category_instancesonly:\n",
    "    print('class: ', cls)\n",
    "    df2 = df[df['category']==cls]\n",
    "    df2['w'].hist(color='b', alpha=0.5, bins=100)\n",
    "    # 使用seaborn绘制\n",
    "    # sns.distplot(df2['w'], bins=100, kde=True, rug=True);\n",
    "    print(df2['w'].describe())\n",
    "    plt.show()\n",
    "    df2['h'].hist(color='b', alpha=0.5, bins=100)\n",
    "    # 使用seaborn绘制\n",
    "    # sns.distplot(df2['h'], bins=100, kde=True, rug=True);\n",
    "    print(df2['h'].describe())\n",
    "    plt.show()\n",
    "    sns.jointplot(x=\"w\", y=\"h\", data=df[df['category']==cls]);\n",
    "    plt.show()\n",
    "    print(80*'-')"
   ]
  },
  {
   "cell_type": "markdown",
   "metadata": {},
   "source": [
    "# anchor的尺寸选取"
   ]
  },
  {
   "cell_type": "code",
   "execution_count": 10,
   "metadata": {},
   "outputs": [
    {
     "data": {
      "image/png": "[encoded data removed]",
      "text/plain": [
       "<Figure size 432x288 with 1 Axes>"
      ]
     },
     "metadata": {
      "needs_background": "light"
     },
     "output_type": "display_data"
    }
   ],
   "source": [
    "power = np.array([0, 1, 2])\n",
    "plt.scatter(np.log(np.ones((len(power)))*0.41), 14 * 2. ** power, c='r', marker='.')\n",
    "plt.scatter(np.log(np.ones((len(power)))*0.41), 18 * 2. ** power, c='b', marker='.')\n",
    "plt.scatter(np.log(np.ones((len(power)))*0.41), 23 * 2. ** power, c='g', marker='.')\n",
    "plt.scatter(np.log(np.ones((len(power)))*0.41), 32 * 2. ** power, c='y', marker='.')\n",
    "plt.show()"
   ]
  },
  {
   "cell_type": "code",
   "execution_count": 11,
   "metadata": {},
   "outputs": [
    {
     "data": {
      "image/png": "[encoded data removed]",
      "text/plain": [
       "<Figure size 432x288 with 1 Axes>"
      ]
     },
     "metadata": {
      "needs_background": "light"
     },
     "output_type": "display_data"
    }
   ],
   "source": [
    "plt.scatter(np.log(df2['w']/df2['h']), np.sqrt(df2['w']*df2['h']))\n",
    "# plt.scatter(df2['w']/df2['h'], np.sqrt(df2['w']*df2['h']))\n",
    "power = np.array([0, 1, 2, 3, 4])\n",
    "plt.scatter(np.log(np.ones((len(power)))*0.41), 14 * 2. ** power, c='r', marker='.')\n",
    "plt.scatter(np.log(np.ones((len(power)))*0.41), 18 * 2. ** power, c='b', marker='.')\n",
    "plt.scatter(np.log(np.ones((len(power)))*0.41), 23 * 2. ** power, c='g', marker='.')\n",
    "plt.scatter(np.log(np.ones((len(power)))*0.41), 32 * 2. ** power, c='y', marker='.')\n",
    "plt.show()"
   ]
  },
  {
   "attachments": {
    "image.png": {
     "image/png": "[encoded data removed]"
    }
   },
   "cell_type": "markdown",
   "metadata": {},
   "source": [
    "比较窄的那些框是因为被图片的边缘阶段了，例如下图：\n",
    "\n",
    "![image.png](attachment:image.png)"
   ]
  },
  {
   "cell_type": "markdown",
   "metadata": {},
   "source": [
    "## 宽高比"
   ]
  },
  {
   "cell_type": "code",
   "execution_count": 12,
   "metadata": {
    "scrolled": false
   },
   "outputs": [
    {
     "name": "stdout",
     "output_type": "stream",
     "text": [
      "class:  pedestrian\n",
      "count    27770.000000\n",
      "mean         0.532213\n",
      "std          0.407370\n",
      "min          0.043478\n",
      "25%          0.407240\n",
      "50%          0.411765\n",
      "75%          0.478099\n",
      "max         19.200000\n",
      "Name: aspect, dtype: float64\n"
     ]
    },
    {
     "data": {
      "image/png": "[encoded data removed]",
      "text/plain": [
       "<Figure size 432x288 with 1 Axes>"
      ]
     },
     "metadata": {
      "needs_background": "light"
     },
     "output_type": "display_data"
    },
    {
     "name": "stdout",
     "output_type": "stream",
     "text": [
      "--------------------------------------------------------------------------------\n"
     ]
    }
   ],
   "source": [
    "for cls in category_instancesonly:\n",
    "    print('class: ', cls)\n",
    "    df2 = df[df['category']==cls]\n",
    "    df2 = df2['aspect']\n",
    "    # df2.plot.hist(stacked=True, bins=100)\n",
    "    df2.hist(color='b', alpha=0.5, bins=100)\n",
    "    print(df2.describe())\n",
    "    plt.show()\n",
    "    print(80*'-')"
   ]
  },
  {
   "cell_type": "code",
   "execution_count": 13,
   "metadata": {
    "scrolled": true
   },
   "outputs": [
    {
     "name": "stdout",
     "output_type": "stream",
     "text": [
      "class:  pedestrian\n",
      "count    27770.000000\n",
      "mean        58.593206\n",
      "std         55.977635\n",
      "min          1.000000\n",
      "25%         23.473389\n",
      "50%         41.109610\n",
      "75%         73.346774\n",
      "max        618.174733\n",
      "Name: sqrt_area, dtype: float64\n"
     ]
    },
    {
     "data": {
      "image/png": "[encoded data removed]",
      "text/plain": [
       "<Figure size 432x288 with 1 Axes>"
      ]
     },
     "metadata": {
      "needs_background": "light"
     },
     "output_type": "display_data"
    },
    {
     "name": "stdout",
     "output_type": "stream",
     "text": [
      "--------------------------------------------------------------------------------\n"
     ]
    }
   ],
   "source": [
    "for cls in category_instancesonly:\n",
    "    print('class: ', cls)\n",
    "    df2 = df[df['category']==cls]\n",
    "    df2 = df2['sqrt_area']\n",
    "    # df2.plot.hist(stacked=True, bins=100)\n",
    "    df2.hist(color='b', alpha=0.5, bins=100)\n",
    "    print(df2.describe())\n",
    "    plt.show()\n",
    "    print(80*'-')"
   ]
  },
  {
   "cell_type": "markdown",
   "metadata": {},
   "source": [
    "## FPN目标分层分布图"
   ]
  },
  {
   "cell_type": "code",
   "execution_count": 14,
   "metadata": {
    "scrolled": false
   },
   "outputs": [
    {
     "name": "stdout",
     "output_type": "stream",
     "text": [
      "class:  pedestrian\n",
      "count    27770.000000\n",
      "mean         2.144869\n",
      "std          0.416372\n",
      "min          2.000000\n",
      "25%          2.000000\n",
      "50%          2.000000\n",
      "75%          2.000000\n",
      "max          5.000000\n",
      "Name: target_lvls, dtype: float64\n"
     ]
    },
    {
     "data": {
      "image/png": "[encoded data removed]",
      "text/plain": [
       "<Figure size 432x288 with 1 Axes>"
      ]
     },
     "metadata": {
      "needs_background": "light"
     },
     "output_type": "display_data"
    },
    {
     "name": "stdout",
     "output_type": "stream",
     "text": [
      "--------------------------------------------------------------------------------\n"
     ]
    }
   ],
   "source": [
    "for cls in category_instancesonly:\n",
    "    print('class: ', cls)\n",
    "    df2 = df[df['category']==cls]\n",
    "    df2 = df2['target_lvls']\n",
    "    # df2.plot.hist(stacked=True, bins=100)\n",
    "    df2.hist(color='b', alpha=0.5, bins=100)\n",
    "    print(df2.describe())\n",
    "    plt.show()\n",
    "    print(80*'-')"
   ]
  },
  {
   "cell_type": "code",
   "execution_count": 15,
   "metadata": {
    "scrolled": false
   },
   "outputs": [
    {
     "data": {
      "text/plain": [
       "2.0    24404\n",
       "3.0     2739\n",
       "4.0      597\n",
       "5.0       30\n",
       "Name: target_lvls, dtype: int64"
      ]
     },
     "execution_count": 15,
     "metadata": {},
     "output_type": "execute_result"
    }
   ],
   "source": [
    "df2.value_counts()"
   ]
  },
  {
   "cell_type": "markdown",
   "metadata": {},
   "source": [
    "## 改进一点点"
   ]
  },
  {
   "cell_type": "code",
   "execution_count": 25,
   "metadata": {},
   "outputs": [],
   "source": [
    "def map_rois_to_fpn_levels3(areas, k_min=2, k_max=5):\n",
    "    \"\"\"Determine which FPN level each RoI in a set of RoIs should map to based\n",
    "    on the heuristic in the FPN paper.\n",
    "    \"\"\"\n",
    "    # Compute level ids\n",
    "    s = np.sqrt(areas)\n",
    "    s0 = 112 # default: 224\n",
    "    lvl0 = 4  # default: 4\n",
    "\n",
    "    # Eqn.(1) in FPN paper\n",
    "    target_lvls = np.floor(lvl0 + np.log(s / s0 + 1e-6))\n",
    "    # target_lvls = np.floor(lvl0 + np.log(s / s0 + 1e-6)/np.log(2))\n",
    "    target_lvls = np.clip(target_lvls, k_min, k_max)\n",
    "    return target_lvls"
   ]
  },
  {
   "cell_type": "code",
   "execution_count": 26,
   "metadata": {},
   "outputs": [],
   "source": [
    "target_lvls3 = []\n",
    "for area in dic['area']:\n",
    "    target_lvls3.append(map_rois_to_fpn_levels3(area, k_min=2, k_max=5))"
   ]
  },
  {
   "cell_type": "code",
   "execution_count": 27,
   "metadata": {
    "scrolled": true
   },
   "outputs": [
    {
     "data": {
      "image/png": "[encoded data removed]",
      "text/plain": [
       "<Figure size 432x288 with 1 Axes>"
      ]
     },
     "metadata": {
      "needs_background": "light"
     },
     "output_type": "display_data"
    },
    {
     "data": {
      "text/plain": [
       "2.0    13912\n",
       "3.0    10492\n",
       "4.0     3158\n",
       "5.0      208\n",
       "Name: target_lvls, dtype: int64"
      ]
     },
     "execution_count": 27,
     "metadata": {},
     "output_type": "execute_result"
    }
   ],
   "source": [
    "dic_area3 = dict()\n",
    "dic_area3['target_lvls'] = target_lvls3\n",
    "df_target_lvls3 = pd.DataFrame(dic_area3)\n",
    "df_target_lvls3.hist(color='b', alpha=0.5, bins=100)\n",
    "plt.show()\n",
    "df_target_lvls3['target_lvls'].value_counts()"
   ]
  },
  {
   "cell_type": "code",
   "execution_count": 38,
   "metadata": {},
   "outputs": [
    {
     "name": "stdout",
     "output_type": "stream",
     "text": [
      "[2. 2. 2. ... 5. 5. 5.]\n"
     ]
    },
    {
     "data": {
      "text/plain": [
       "(array([13911, 24403, 27561]),)"
      ]
     },
     "execution_count": 38,
     "metadata": {},
     "output_type": "execute_result"
    }
   ],
   "source": [
    "target_lvls = np.sort(target_lvls3)\n",
    "print(target_lvls)\n",
    "out = target_lvls - np.hstack((target_lvls[1:], target_lvls[0]))\n",
    "np.where(out==-1)"
   ]
  },
  {
   "cell_type": "markdown",
   "metadata": {},
   "source": [
    "## 改进后的特征提取层分配"
   ]
  },
  {
   "cell_type": "code",
   "execution_count": 19,
   "metadata": {},
   "outputs": [],
   "source": [
    "def map_rois_to_fpn_levels2(areas, k_min=2, k_max=5):\n",
    "    \"\"\"Determine which FPN level each RoI in a set of RoIs should map to based\n",
    "    on the heuristic in the FPN paper.\n",
    "    \"\"\"\n",
    "    # Compute level ids\n",
    "    s = np.sqrt(areas)\n",
    "    s0 = 112 # default: 224\n",
    "    lvl0 = 4  # default: 4\n",
    "\n",
    "    # Eqn.(1) in FPN paper\n",
    "    target_lvls = np.floor(lvl0 + np.log(s / s0 + 1e-6)/np.log(2))\n",
    "    target_lvls = np.clip(target_lvls, k_min, k_max)\n",
    "    return target_lvls"
   ]
  },
  {
   "cell_type": "code",
   "execution_count": 20,
   "metadata": {},
   "outputs": [],
   "source": [
    "target_lvls2 = []\n",
    "for area in dic['area']:\n",
    "    target_lvls2.append(map_rois_to_fpn_levels2(area, k_min=2, k_max=5))"
   ]
  },
  {
   "cell_type": "code",
   "execution_count": 21,
   "metadata": {
    "scrolled": true
   },
   "outputs": [
    {
     "data": {
      "image/png": "[encoded data removed]",
      "text/plain": [
       "<Figure size 432x288 with 1 Axes>"
      ]
     },
     "metadata": {
      "needs_background": "light"
     },
     "output_type": "display_data"
    },
    {
     "data": {
      "text/plain": [
       "2.0    17849\n",
       "3.0     6555\n",
       "4.0     2739\n",
       "5.0      627\n",
       "Name: target_lvls, dtype: int64"
      ]
     },
     "execution_count": 21,
     "metadata": {},
     "output_type": "execute_result"
    }
   ],
   "source": [
    "dic_area = dict()\n",
    "dic_area['target_lvls'] = target_lvls2\n",
    "df_target_lvls2 = pd.DataFrame(dic_area)\n",
    "df_target_lvls2.hist(color='b', alpha=0.5, bins=100)\n",
    "plt.show()\n",
    "df_target_lvls2['target_lvls'].value_counts()"
   ]
  },
  {
   "cell_type": "code",
   "execution_count": 36,
   "metadata": {},
   "outputs": [
    {
     "name": "stdout",
     "output_type": "stream",
     "text": [
      "[2. 2. 2. ... 5. 5. 5.]\n"
     ]
    },
    {
     "data": {
      "text/plain": [
       "(array([17848, 24403, 27142]),)"
      ]
     },
     "execution_count": 36,
     "metadata": {},
     "output_type": "execute_result"
    }
   ],
   "source": [
    "target_lvls = np.sort(target_lvls2)\n",
    "print(target_lvls)\n",
    "out = target_lvls - np.hstack((target_lvls[1:], target_lvls[0]))\n",
    "np.where(out==-1)"
   ]
  },
  {
   "cell_type": "markdown",
   "metadata": {},
   "source": [
    "# 可见部分的框"
   ]
  },
  {
   "cell_type": "code",
   "execution_count": 42,
   "metadata": {},
   "outputs": [
    {
     "name": "stdout",
     "output_type": "stream",
     "text": [
      "   category_num    category    x1   y1   w    h    aspect  log_aspect  area  \\\n",
      "0             1  pedestrian  1292  426  22   60  0.366667   -1.167605  1525   \n",
      "1             1  pedestrian    75  407  27   71  0.380282   -1.167605  2059   \n",
      "2             1  pedestrian  1694  417  24   64  0.375000   -1.167605  1664   \n",
      "3             1  pedestrian  1724  442  11   30  0.366667   -1.167605   403   \n",
      "4             1  pedestrian    87  442  49  128  0.382812   -1.167605  6784   \n",
      "\n",
      "   log_area  \n",
      "0  7.329750  \n",
      "1  7.629976  \n",
      "2  7.416980  \n",
      "3  5.998937  \n",
      "4  8.822322  \n"
     ]
    }
   ],
   "source": [
    "bboxes = np.empty((len(anns['annotations']), 9))\n",
    "dic = collections.OrderedDict()\n",
    "dic['category_num'] = []\n",
    "dic['category'] = []\n",
    "dic['x1'] = []\n",
    "dic['y1'] = []\n",
    "dic['w'] = []\n",
    "dic['h'] = []\n",
    "dic['aspect'] = []\n",
    "dic['log_aspect'] = []\n",
    "dic['area'] = []\n",
    "dic['log_area'] = []\n",
    "for i in range(len(anns['annotations'])):\n",
    "    bbox = anns['annotations'][i]['posv']\n",
    "    dic['category_num'].append(anns['annotations'][i]['category_id'])\n",
    "    dic['category'].append(id_to_category[str(anns['annotations'][i]['category_id'])])\n",
    "    dic['x1'].append(bbox[0])\n",
    "    dic['y1'].append(bbox[1])\n",
    "    dic['w'].append(bbox[2])\n",
    "    dic['h'].append(bbox[3])\n",
    "    dic['aspect'].append(float(bbox[2])/float(bbox[3]))\n",
    "    dic['log_aspect']= np.log(float(bbox[2])/float(bbox[3]))\n",
    "    dic['area'].append(anns['annotations'][i]['area'])\n",
    "    dic['log_area'].append(np.log(anns['annotations'][i]['area']))\n",
    "\n",
    "df = pd.DataFrame(dic)\n",
    "\n",
    "print(df.head())"
   ]
  },
  {
   "cell_type": "code",
   "execution_count": 43,
   "metadata": {},
   "outputs": [
    {
     "name": "stdout",
     "output_type": "stream",
     "text": [
      "class:  pedestrian\n",
      "count    16526.000000\n",
      "mean        38.168643\n",
      "std         35.787594\n",
      "min          1.000000\n",
      "25%         16.000000\n",
      "50%         26.500000\n",
      "75%         48.000000\n",
      "max        396.000000\n",
      "Name: w, dtype: float64\n"
     ]
    },
    {
     "data": {
      "image/png": "[encoded data removed]",
      "text/plain": [
       "<matplotlib.figure.Figure at 0x7f362b8ac290>"
      ]
     },
     "metadata": {},
     "output_type": "display_data"
    },
    {
     "name": "stdout",
     "output_type": "stream",
     "text": [
      "count    16526.000000\n",
      "mean       101.220319\n",
      "std         99.237549\n",
      "min          3.000000\n",
      "25%         36.000000\n",
      "50%         69.000000\n",
      "75%        131.000000\n",
      "max        913.000000\n",
      "Name: h, dtype: float64\n"
     ]
    },
    {
     "data": {
      "image/png": "[encoded data removed]",
      "text/plain": [
       "<matplotlib.figure.Figure at 0x7f365c7df1d0>"
      ]
     },
     "metadata": {},
     "output_type": "display_data"
    },
    {
     "data": {
      "image/png": "[encoded data removed]",
      "text/plain": [
       "<matplotlib.figure.Figure at 0x7f365cad8a90>"
      ]
     },
     "metadata": {},
     "output_type": "display_data"
    },
    {
     "name": "stdout",
     "output_type": "stream",
     "text": [
      "--------------------------------------------------------------------------------\n"
     ]
    }
   ],
   "source": [
    "for cls in category_instancesonly:\n",
    "    print('class: ', cls)\n",
    "    df2 = df[df['category']==cls]\n",
    "    df2['w'].hist(color='b', alpha=0.5, bins=100)\n",
    "    # 使用seaborn绘制\n",
    "    # sns.distplot(df2['w'], bins=100, kde=True, rug=True);\n",
    "    print(df2['w'].describe())\n",
    "    plt.show()\n",
    "    df2['h'].hist(color='b', alpha=0.5, bins=100)\n",
    "    # 使用seaborn绘制\n",
    "    # sns.distplot(df2['h'], bins=100, kde=True, rug=True);\n",
    "    print(df2['h'].describe())\n",
    "    plt.show()\n",
    "    sns.jointplot(x=\"w\", y=\"h\", data=df[df['category']==cls]);\n",
    "    plt.show()\n",
    "    print(80*'-')kuangaobi"
   ]
  },
  {
   "cell_type": "code",
   "execution_count": null,
   "metadata": {
    "collapsed": true
   },
   "outputs": [],
   "source": []
  }
 ],
 "metadata": {
  "kernelspec": {
   "display_name": "Python 3",
   "language": "python",
   "name": "python3"
  },
  "language_info": {
   "codemirror_mode": {
    "name": "ipython",
    "version": 3
   },
   "file_extension": ".py",
   "mimetype": "text/x-python",
   "name": "python",
   "nbconvert_exporter": "python",
   "pygments_lexer": "ipython3",
   "version": "3.7.1"
  }
 },
 "nbformat": 4,
 "nbformat_minor": 2
}
