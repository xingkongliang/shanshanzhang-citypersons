{
 "cells": [
  {
   "cell_type": "code",
   "execution_count": 1,
   "metadata": {
    "collapsed": true
   },
   "outputs": [],
   "source": [
    "from __future__ import absolute_import\n",
    "from __future__ import division\n",
    "from __future__ import print_function\n",
    "from __future__ import unicode_literals\n",
    "\n",
    "import numpy as np\n",
    "import pandas as pd\n",
    "from pandas.plotting import scatter_matrix\n",
    "\n",
    "import seaborn as sns\n",
    "sns.set(color_codes=True)\n",
    "import matplotlib.pyplot as plt\n",
    "\n",
    "import json\n",
    "import os\n",
    "import pprint\n",
    "import collections\n",
    "# COCO API\n",
    "from pycocotools import mask as COCOmask\n",
    "from pycocotools.coco import COCO"
   ]
  },
  {
   "cell_type": "code",
   "execution_count": 2,
   "metadata": {
    "collapsed": true
   },
   "outputs": [],
   "source": [
    "category_to_id = {\n",
    "    'pedestrian': 1,\n",
    "}\n",
    "category_instancesonly = [\n",
    "    'pedestrian',\n",
    "]"
   ]
  },
  {
   "cell_type": "markdown",
   "metadata": {},
   "source": [
    "# Cityscapes 训练集数据分析\n",
    "## 读取文件"
   ]
  },
  {
   "cell_type": "code",
   "execution_count": 3,
   "metadata": {},
   "outputs": [
    {
     "name": "stdout",
     "output_type": "stream",
     "text": [
      "读取标注文件:  ../json_annotations/citypersons_train.json\n",
      "json文件字典中的关键字:  [u'images', u'info', u'type', u'annotations', u'categories']\n"
     ]
    }
   ],
   "source": [
    "root_dir = '../json_annotations'\n",
    "json_name = 'citypersons_train.json'\n",
    "json_file = os.path.join(root_dir, json_name)\n",
    "print('读取标注文件: ', json_file)\n",
    "anns = json.load(open(json_file))\n",
    "print('json文件字典中的关键字: ', anns.keys())\n",
    "# coco = COCO(json_file)\n"
   ]
  },
  {
   "cell_type": "markdown",
   "metadata": {},
   "source": [
    "## 标注文件格式分析"
   ]
  },
  {
   "cell_type": "code",
   "execution_count": 4,
   "metadata": {
    "scrolled": true
   },
   "outputs": [
    {
     "name": "stdout",
     "output_type": "stream",
     "text": [
      "annotations 中的关键字: [u'segmentation', u'area', u'iscrowd', u'ignore', u'image_id', u'bbox', u'posv', u'category_id', u'id']\n",
      "类别: \n",
      "[{u'id': 1, u'name': u'pedestrian', u'supercategory': u'pedestrian'}]\n",
      "包含图片的数量:  2975\n",
      "包含示例的数量:  15405\n"
     ]
    }
   ],
   "source": [
    "print('annotations 中的关键字:', anns['annotations'][0].keys())\n",
    "print('类别: ')\n",
    "pprint.pprint(anns['categories'])\n",
    "print('包含图片的数量: ', len(anns['images']))\n",
    "print('包含示例的数量: ', len(anns['annotations']))"
   ]
  },
  {
   "cell_type": "markdown",
   "metadata": {},
   "source": [
    "# 使用pandas转成DataFrame类型的数据格式"
   ]
  },
  {
   "cell_type": "code",
   "execution_count": 5,
   "metadata": {},
   "outputs": [
    {
     "name": "stdout",
     "output_type": "stream",
     "text": [
      "{u'supercategory': u'pedestrian', u'id': 1, u'name': u'pedestrian'}\n",
      "{'1': u'pedestrian'}\n"
     ]
    }
   ],
   "source": [
    "id_to_category = {}\n",
    "for object_cls in anns['categories']:\n",
    "    print(object_cls)\n",
    "    if str(object_cls['id']) not in id_to_category:\n",
    "        id_to_category[str(object_cls['id'])] = object_cls['name']\n",
    "print(id_to_category)"
   ]
  },
  {
   "cell_type": "code",
   "execution_count": 6,
   "metadata": {
    "collapsed": true
   },
   "outputs": [],
   "source": [
    "def map_rois_to_fpn_levels(areas, k_min=2, k_max=6):\n",
    "    \"\"\"Determine which FPN level each RoI in a set of RoIs should map to based\n",
    "    on the heuristic in the FPN paper.\n",
    "    \"\"\"\n",
    "    # Compute level ids\n",
    "    s = np.sqrt(areas)\n",
    "    s0 = 224  # default: 224\n",
    "    lvl0 = 4  # default: 4\n",
    "\n",
    "    # Eqn.(1) in FPN paper\n",
    "    target_lvls = np.floor(lvl0 + np.log2(s / s0 + 1e-6))\n",
    "    target_lvls = np.clip(target_lvls, k_min, k_max)\n",
    "    return target_lvls"
   ]
  },
  {
   "cell_type": "code",
   "execution_count": 7,
   "metadata": {},
   "outputs": [
    {
     "name": "stdout",
     "output_type": "stream",
     "text": [
      "   category_num    category    x1   y1   w    h    aspect  log_aspect  area  \\\n",
      "0             1  pedestrian  1290  425  25   61  0.409836   -0.896088  1525   \n",
      "1             1  pedestrian    73  407  29   71  0.408451   -0.896088  2059   \n",
      "2             1  pedestrian  1692  417  26   64  0.406250   -0.896088  1664   \n",
      "3             1  pedestrian  1722  441  13   31  0.419355   -0.896088   403   \n",
      "4             1  pedestrian    83  442  53  128  0.414062   -0.896088  6784   \n",
      "\n",
      "    log_area  sqrt_area  target_lvls  \n",
      "0  10.574594  39.051248          2.0  \n",
      "1  11.007728  45.376205          2.0  \n",
      "2  10.700440  40.792156          2.0  \n",
      "3   8.654636  20.074860          2.0  \n",
      "4  12.727920  82.365041          2.0  \n"
     ]
    }
   ],
   "source": [
    "bboxes = np.empty((len(anns['annotations']), 9))\n",
    "dic = collections.OrderedDict()\n",
    "dic['category_num'] = []\n",
    "dic['category'] = []\n",
    "dic['x1'] = []\n",
    "dic['y1'] = []\n",
    "dic['w'] = []\n",
    "dic['h'] = []\n",
    "dic['aspect'] = []\n",
    "dic['log_aspect'] = []\n",
    "dic['area'] = []\n",
    "dic['log_area'] = []\n",
    "dic['sqrt_area'] = []\n",
    "dic['target_lvls'] = []\n",
    "for i in range(len(anns['annotations'])):\n",
    "    bbox = anns['annotations'][i]['bbox']\n",
    "    dic['category_num'].append(anns['annotations'][i]['category_id'])\n",
    "    dic['category'].append(id_to_category[str(anns['annotations'][i]['category_id'])])\n",
    "    dic['x1'].append(bbox[0])\n",
    "    dic['y1'].append(bbox[1])\n",
    "    dic['w'].append(bbox[2])\n",
    "    dic['h'].append(bbox[3])\n",
    "    dic['aspect'].append(float(bbox[2])/float(bbox[3]))\n",
    "    dic['log_aspect']= np.log(float(bbox[2])/float(bbox[3]))\n",
    "    dic['area'].append(anns['annotations'][i]['area'])\n",
    "    dic['log_area'].append(np.log2(anns['annotations'][i]['area']))\n",
    "    dic['sqrt_area'].append(np.sqrt(anns['annotations'][i]['area']))\n",
    "    dic['target_lvls'].append(map_rois_to_fpn_levels(anns['annotations'][i]['area'], k_min=2, k_max=5))\n",
    "\n",
    "df = pd.DataFrame(dic)\n",
    "\n",
    "print(df.head())"
   ]
  },
  {
   "cell_type": "code",
   "execution_count": 8,
   "metadata": {
    "scrolled": false
   },
   "outputs": [
    {
     "data": {
      "text/html": [
       "<div>\n",
       "<style scoped>\n",
       "    .dataframe tbody tr th:only-of-type {\n",
       "        vertical-align: middle;\n",
       "    }\n",
       "\n",
       "    .dataframe tbody tr th {\n",
       "        vertical-align: top;\n",
       "    }\n",
       "\n",
       "    .dataframe thead th {\n",
       "        text-align: right;\n",
       "    }\n",
       "</style>\n",
       "<table border=\"1\" class=\"dataframe\">\n",
       "  <thead>\n",
       "    <tr style=\"text-align: right;\">\n",
       "      <th></th>\n",
       "      <th>category_num</th>\n",
       "      <th>category</th>\n",
       "      <th>x1</th>\n",
       "      <th>y1</th>\n",
       "      <th>w</th>\n",
       "      <th>h</th>\n",
       "      <th>aspect</th>\n",
       "      <th>log_aspect</th>\n",
       "      <th>area</th>\n",
       "      <th>log_area</th>\n",
       "      <th>sqrt_area</th>\n",
       "      <th>target_lvls</th>\n",
       "    </tr>\n",
       "  </thead>\n",
       "  <tbody>\n",
       "    <tr>\n",
       "      <th>0</th>\n",
       "      <td>1</td>\n",
       "      <td>pedestrian</td>\n",
       "      <td>1290</td>\n",
       "      <td>425</td>\n",
       "      <td>25</td>\n",
       "      <td>61</td>\n",
       "      <td>0.409836</td>\n",
       "      <td>-0.896088</td>\n",
       "      <td>1525</td>\n",
       "      <td>10.574594</td>\n",
       "      <td>39.051248</td>\n",
       "      <td>2.0</td>\n",
       "    </tr>\n",
       "    <tr>\n",
       "      <th>1</th>\n",
       "      <td>1</td>\n",
       "      <td>pedestrian</td>\n",
       "      <td>73</td>\n",
       "      <td>407</td>\n",
       "      <td>29</td>\n",
       "      <td>71</td>\n",
       "      <td>0.408451</td>\n",
       "      <td>-0.896088</td>\n",
       "      <td>2059</td>\n",
       "      <td>11.007728</td>\n",
       "      <td>45.376205</td>\n",
       "      <td>2.0</td>\n",
       "    </tr>\n",
       "    <tr>\n",
       "      <th>2</th>\n",
       "      <td>1</td>\n",
       "      <td>pedestrian</td>\n",
       "      <td>1692</td>\n",
       "      <td>417</td>\n",
       "      <td>26</td>\n",
       "      <td>64</td>\n",
       "      <td>0.406250</td>\n",
       "      <td>-0.896088</td>\n",
       "      <td>1664</td>\n",
       "      <td>10.700440</td>\n",
       "      <td>40.792156</td>\n",
       "      <td>2.0</td>\n",
       "    </tr>\n",
       "    <tr>\n",
       "      <th>3</th>\n",
       "      <td>1</td>\n",
       "      <td>pedestrian</td>\n",
       "      <td>1722</td>\n",
       "      <td>441</td>\n",
       "      <td>13</td>\n",
       "      <td>31</td>\n",
       "      <td>0.419355</td>\n",
       "      <td>-0.896088</td>\n",
       "      <td>403</td>\n",
       "      <td>8.654636</td>\n",
       "      <td>20.074860</td>\n",
       "      <td>2.0</td>\n",
       "    </tr>\n",
       "    <tr>\n",
       "      <th>4</th>\n",
       "      <td>1</td>\n",
       "      <td>pedestrian</td>\n",
       "      <td>83</td>\n",
       "      <td>442</td>\n",
       "      <td>53</td>\n",
       "      <td>128</td>\n",
       "      <td>0.414062</td>\n",
       "      <td>-0.896088</td>\n",
       "      <td>6784</td>\n",
       "      <td>12.727920</td>\n",
       "      <td>82.365041</td>\n",
       "      <td>2.0</td>\n",
       "    </tr>\n",
       "  </tbody>\n",
       "</table>\n",
       "</div>"
      ],
      "text/plain": [
       "   category_num    category    x1   y1   w    h    aspect  log_aspect  area  \\\n",
       "0             1  pedestrian  1290  425  25   61  0.409836   -0.896088  1525   \n",
       "1             1  pedestrian    73  407  29   71  0.408451   -0.896088  2059   \n",
       "2             1  pedestrian  1692  417  26   64  0.406250   -0.896088  1664   \n",
       "3             1  pedestrian  1722  441  13   31  0.419355   -0.896088   403   \n",
       "4             1  pedestrian    83  442  53  128  0.414062   -0.896088  6784   \n",
       "\n",
       "    log_area  sqrt_area  target_lvls  \n",
       "0  10.574594  39.051248          2.0  \n",
       "1  11.007728  45.376205          2.0  \n",
       "2  10.700440  40.792156          2.0  \n",
       "3   8.654636  20.074860          2.0  \n",
       "4  12.727920  82.365041          2.0  "
      ]
     },
     "execution_count": 8,
     "metadata": {},
     "output_type": "execute_result"
    }
   ],
   "source": [
    "df.head()"
   ]
  },
  {
   "cell_type": "markdown",
   "metadata": {},
   "source": [
    "## 样本分布可视化"
   ]
  },
  {
   "cell_type": "code",
   "execution_count": 9,
   "metadata": {
    "scrolled": false
   },
   "outputs": [
    {
     "name": "stdout",
     "output_type": "stream",
     "text": [
      "class:  pedestrian\n",
      "count    15405.000000\n",
      "mean        47.193054\n",
      "std         40.663082\n",
      "min          2.000000\n",
      "25%         21.000000\n",
      "50%         34.000000\n",
      "75%         59.000000\n",
      "max        396.000000\n",
      "Name: w, dtype: float64\n"
     ]
    },
    {
     "data": {
      "image/png": "[encoded data removed]",
      "text/plain": [
       "<matplotlib.figure.Figure at 0x7ff5b2c21750>"
      ]
     },
     "metadata": {},
     "output_type": "display_data"
    },
    {
     "name": "stdout",
     "output_type": "stream",
     "text": [
      "count    15405.000000\n",
      "mean       115.111068\n",
      "std         99.163296\n",
      "min          6.000000\n",
      "25%         51.000000\n",
      "50%         84.000000\n",
      "75%        145.000000\n",
      "max        965.000000\n",
      "Name: h, dtype: float64\n"
     ]
    },
    {
     "data": {
      "image/png": "[encoded data removed]",
      "text/plain": [
       "<matplotlib.figure.Figure at 0x7ff5eccb4f10>"
      ]
     },
     "metadata": {},
     "output_type": "display_data"
    },
    {
     "name": "stderr",
     "output_type": "stream",
     "text": [
      "/home/tianliang/anaconda2/lib/python2.7/site-packages/scipy/stats/stats.py:1713: FutureWarning: Using a non-tuple sequence for multidimensional indexing is deprecated; use `arr[tuple(seq)]` instead of `arr[seq]`. In the future this will be interpreted as an array index, `arr[np.array(seq)]`, which will result either in an error or a different result.\n",
      "  return np.add.reduce(sorted[indexer] * weights, axis=axis) / sumval\n"
     ]
    },
    {
     "data": {
      "image/png": "[encoded data removed]",
      "text/plain": [
       "<matplotlib.figure.Figure at 0x7ff5ecc51350>"
      ]
     },
     "metadata": {},
     "output_type": "display_data"
    },
    {
     "name": "stdout",
     "output_type": "stream",
     "text": [
      "--------------------------------------------------------------------------------\n"
     ]
    }
   ],
   "source": [
    "for cls in category_instancesonly:\n",
    "    print('class: ', cls)\n",
    "    df2 = df[df['category']==cls]\n",
    "    df2['w'].hist(color='b', alpha=0.5, bins=100)\n",
    "    # 使用seaborn绘制\n",
    "    # sns.distplot(df2['w'], bins=100, kde=True, rug=True);\n",
    "    print(df2['w'].describe())\n",
    "    plt.show()\n",
    "    df2['h'].hist(color='b', alpha=0.5, bins=100)\n",
    "    # 使用seaborn绘制\n",
    "    # sns.distplot(df2['h'], bins=100, kde=True, rug=True);\n",
    "    print(df2['h'].describe())\n",
    "    plt.show()\n",
    "    sns.jointplot(x=\"w\", y=\"h\", data=df[df['category']==cls]);\n",
    "    plt.show()\n",
    "    print(80*'-')"
   ]
  },
  {
   "cell_type": "markdown",
   "metadata": {},
   "source": [
    "# anchor的尺寸选取"
   ]
  },
  {
   "cell_type": "code",
   "execution_count": 10,
   "metadata": {},
   "outputs": [
    {
     "data": {
      "image/png": "[encoded data removed]",
      "text/plain": [
       "<matplotlib.figure.Figure at 0x7ff5ec831fd0>"
      ]
     },
     "metadata": {},
     "output_type": "display_data"
    }
   ],
   "source": [
    "power = np.array([0, 1, 2])\n",
    "plt.scatter(np.log(np.ones((len(power)))*0.41), 14 * 2. ** power, c='r', marker='.')\n",
    "plt.scatter(np.log(np.ones((len(power)))*0.41), 18 * 2. ** power, c='b', marker='.')\n",
    "plt.scatter(np.log(np.ones((len(power)))*0.41), 23 * 2. ** power, c='g', marker='.')\n",
    "plt.scatter(np.log(np.ones((len(power)))*0.41), 32 * 2. ** power, c='y', marker='.')\n",
    "plt.show()"
   ]
  },
  {
   "cell_type": "code",
   "execution_count": 11,
   "metadata": {},
   "outputs": [
    {
     "data": {
      "image/png": "[encoded data removed]",
      "text/plain": [
       "<matplotlib.figure.Figure at 0x7ff5ec963a50>"
      ]
     },
     "metadata": {},
     "output_type": "display_data"
    }
   ],
   "source": [
    "plt.scatter(np.log(df2['w']/df2['h']), np.sqrt(df2['w']*df2['h']))\n",
    "# plt.scatter(df2['w']/df2['h'], np.sqrt(df2['w']*df2['h']))\n",
    "power = np.array([0, 1, 2, 3, 4])\n",
    "plt.scatter(np.log(np.ones((len(power)))*0.41), 14 * 2. ** power, c='r', marker='.')\n",
    "plt.scatter(np.log(np.ones((len(power)))*0.41), 18 * 2. ** power, c='b', marker='.')\n",
    "plt.scatter(np.log(np.ones((len(power)))*0.41), 23 * 2. ** power, c='g', marker='.')\n",
    "plt.scatter(np.log(np.ones((len(power)))*0.41), 32 * 2. ** power, c='y', marker='.')\n",
    "plt.show()"
   ]
  },
  {
   "attachments": {
    "image.png": {
     "image/png": "[encoded data removed]"
    }
   },
   "cell_type": "markdown",
   "metadata": {},
   "source": [
    "比较窄的那些框是因为被图片的边缘阶段了，例如下图：\n",
    "\n",
    "![image.png](attachment:image.png)"
   ]
  },
  {
   "cell_type": "markdown",
   "metadata": {},
   "source": [
    "## 宽高比"
   ]
  },
  {
   "cell_type": "code",
   "execution_count": 13,
   "metadata": {
    "scrolled": false
   },
   "outputs": [
    {
     "name": "stdout",
     "output_type": "stream",
     "text": [
      "class:  pedestrian\n",
      "count    15405.000000\n",
      "mean         0.409970\n",
      "std          0.008712\n",
      "min          0.285714\n",
      "25%          0.406593\n",
      "50%          0.410000\n",
      "75%          0.413265\n",
      "max          0.500000\n",
      "Name: aspect, dtype: float64\n"
     ]
    },
    {
     "data": {
      "image/png": "[encoded data removed]",
      "text/plain": [
       "<matplotlib.figure.Figure at 0x7ff5b2e8b610>"
      ]
     },
     "metadata": {},
     "output_type": "display_data"
    },
    {
     "name": "stdout",
     "output_type": "stream",
     "text": [
      "--------------------------------------------------------------------------------\n"
     ]
    }
   ],
   "source": [
    "for cls in category_instancesonly:\n",
    "    print('class: ', cls)\n",
    "    df2 = df[df['category']==cls]\n",
    "    df2 = df2['aspect']\n",
    "    # df2.plot.hist(stacked=True, bins=100)\n",
    "    df2.hist(color='b', alpha=0.5, bins=100)\n",
    "    print(df2.describe())\n",
    "    plt.show()\n",
    "    print(80*'-')"
   ]
  },
  {
   "cell_type": "code",
   "execution_count": 14,
   "metadata": {
    "scrolled": true
   },
   "outputs": [
    {
     "name": "stdout",
     "output_type": "stream",
     "text": [
      "class:  pedestrian\n",
      "count    15405.000000\n",
      "mean        73.703688\n",
      "std         63.500037\n",
      "min          3.464102\n",
      "25%         32.726136\n",
      "50%         53.441557\n",
      "75%         92.811637\n",
      "max        618.174733\n",
      "Name: sqrt_area, dtype: float64\n"
     ]
    },
    {
     "data": {
      "image/png": "[encoded data removed]",
      "text/plain": [
       "<matplotlib.figure.Figure at 0x7ff5eca249d0>"
      ]
     },
     "metadata": {},
     "output_type": "display_data"
    },
    {
     "name": "stdout",
     "output_type": "stream",
     "text": [
      "--------------------------------------------------------------------------------\n"
     ]
    }
   ],
   "source": [
    "for cls in category_instancesonly:\n",
    "    print('class: ', cls)\n",
    "    df2 = df[df['category']==cls]\n",
    "    df2 = df2['sqrt_area']\n",
    "    # df2.plot.hist(stacked=True, bins=100)\n",
    "    df2.hist(color='b', alpha=0.5, bins=100)\n",
    "    print(df2.describe())\n",
    "    plt.show()\n",
    "    print(80*'-')"
   ]
  },
  {
   "cell_type": "markdown",
   "metadata": {},
   "source": [
    "## FPN目标分层分布图"
   ]
  },
  {
   "cell_type": "code",
   "execution_count": 15,
   "metadata": {
    "scrolled": false
   },
   "outputs": [
    {
     "name": "stdout",
     "output_type": "stream",
     "text": [
      "class:  pedestrian\n",
      "count    15405.000000\n",
      "mean         2.218241\n",
      "std          0.501897\n",
      "min          2.000000\n",
      "25%          2.000000\n",
      "50%          2.000000\n",
      "75%          2.000000\n",
      "max          5.000000\n",
      "Name: target_lvls, dtype: float64\n"
     ]
    },
    {
     "data": {
      "image/png": "[encoded data removed]",
      "text/plain": [
       "<matplotlib.figure.Figure at 0x7ff5b13f0950>"
      ]
     },
     "metadata": {},
     "output_type": "display_data"
    },
    {
     "name": "stdout",
     "output_type": "stream",
     "text": [
      "--------------------------------------------------------------------------------\n"
     ]
    }
   ],
   "source": [
    "for cls in category_instancesonly:\n",
    "    print('class: ', cls)\n",
    "    df2 = df[df['category']==cls]\n",
    "    df2 = df2['target_lvls']\n",
    "    # df2.plot.hist(stacked=True, bins=100)\n",
    "    df2.hist(color='b', alpha=0.5, bins=100)\n",
    "    print(df2.describe())\n",
    "    plt.show()\n",
    "    print(80*'-')"
   ]
  },
  {
   "cell_type": "code",
   "execution_count": 16,
   "metadata": {
    "scrolled": true
   },
   "outputs": [
    {
     "data": {
      "text/plain": [
       "2.0    12639\n",
       "3.0     2200\n",
       "4.0      536\n",
       "5.0       30\n",
       "Name: target_lvls, dtype: int64"
      ]
     },
     "execution_count": 16,
     "metadata": {},
     "output_type": "execute_result"
    }
   ],
   "source": [
    "df2.value_counts()"
   ]
  },
  {
   "cell_type": "markdown",
   "metadata": {},
   "source": [
    "## 改进后的特征提取层分配"
   ]
  },
  {
   "cell_type": "code",
   "execution_count": 17,
   "metadata": {},
   "outputs": [],
   "source": [
    "def map_rois_to_fpn_levels(areas, k_min=2, k_max=5):\n",
    "    \"\"\"Determine which FPN level each RoI in a set of RoIs should map to based\n",
    "    on the heuristic in the FPN paper.\n",
    "    \"\"\"\n",
    "    # Compute level ids\n",
    "    s = np.sqrt(areas)\n",
    "    s0 = 112 # default: 224\n",
    "    lvl0 = 4  # default: 4\n",
    "\n",
    "    # Eqn.(1) in FPN paper\n",
    "    target_lvls = np.floor(lvl0 + np.log(s / s0 + 1e-6)/np.log(2))\n",
    "    target_lvls = np.clip(target_lvls, k_min, k_max)\n",
    "    return target_lvls"
   ]
  },
  {
   "cell_type": "code",
   "execution_count": 18,
   "metadata": {},
   "outputs": [],
   "source": [
    "target_lvls2 = []\n",
    "for area in dic['area']:\n",
    "    target_lvls2.append(map_rois_to_fpn_levels(area, k_min=2, k_max=5))"
   ]
  },
  {
   "cell_type": "code",
   "execution_count": 19,
   "metadata": {},
   "outputs": [
    {
     "data": {
      "image/png": "[encoded data removed]",
      "text/plain": [
       "<matplotlib.figure.Figure at 0x7ff5ac1ec810>"
      ]
     },
     "metadata": {},
     "output_type": "display_data"
    },
    {
     "data": {
      "text/plain": [
       "2.0    8041\n",
       "3.0    4598\n",
       "4.0    2200\n",
       "5.0     566\n",
       "Name: target_lvls, dtype: int64"
      ]
     },
     "execution_count": 19,
     "metadata": {},
     "output_type": "execute_result"
    }
   ],
   "source": [
    "dic_area = dict()\n",
    "dic_area['target_lvls'] = target_lvls2\n",
    "df_target_lvls2 = pd.DataFrame(dic_area)\n",
    "df_target_lvls2.hist(color='b', alpha=0.5, bins=100)\n",
    "plt.show()\n",
    "df_target_lvls2['target_lvls'].value_counts()"
   ]
  },
  {
   "cell_type": "code",
   "execution_count": 21,
   "metadata": {},
   "outputs": [
    {
     "data": {
      "text/plain": [
       "(array([33, 54, 88]),)"
      ]
     },
     "execution_count": 21,
     "metadata": {},
     "output_type": "execute_result"
    }
   ],
   "source": [
    "out = target_lvls - np.hstack((target_lvls[1:], target_lvls[0]))\n",
    "np.where(out==-1)"
   ]
  },
  {
   "cell_type": "markdown",
   "metadata": {},
   "source": [
    "# 可见部分的框"
   ]
  },
  {
   "cell_type": "code",
   "execution_count": 42,
   "metadata": {},
   "outputs": [
    {
     "name": "stdout",
     "output_type": "stream",
     "text": [
      "   category_num    category    x1   y1   w    h    aspect  log_aspect  area  \\\n",
      "0             1  pedestrian  1292  426  22   60  0.366667   -1.167605  1525   \n",
      "1             1  pedestrian    75  407  27   71  0.380282   -1.167605  2059   \n",
      "2             1  pedestrian  1694  417  24   64  0.375000   -1.167605  1664   \n",
      "3             1  pedestrian  1724  442  11   30  0.366667   -1.167605   403   \n",
      "4             1  pedestrian    87  442  49  128  0.382812   -1.167605  6784   \n",
      "\n",
      "   log_area  \n",
      "0  7.329750  \n",
      "1  7.629976  \n",
      "2  7.416980  \n",
      "3  5.998937  \n",
      "4  8.822322  \n"
     ]
    }
   ],
   "source": [
    "bboxes = np.empty((len(anns['annotations']), 9))\n",
    "dic = collections.OrderedDict()\n",
    "dic['category_num'] = []\n",
    "dic['category'] = []\n",
    "dic['x1'] = []\n",
    "dic['y1'] = []\n",
    "dic['w'] = []\n",
    "dic['h'] = []\n",
    "dic['aspect'] = []\n",
    "dic['log_aspect'] = []\n",
    "dic['area'] = []\n",
    "dic['log_area'] = []\n",
    "for i in range(len(anns['annotations'])):\n",
    "    bbox = anns['annotations'][i]['posv']\n",
    "    dic['category_num'].append(anns['annotations'][i]['category_id'])\n",
    "    dic['category'].append(id_to_category[str(anns['annotations'][i]['category_id'])])\n",
    "    dic['x1'].append(bbox[0])\n",
    "    dic['y1'].append(bbox[1])\n",
    "    dic['w'].append(bbox[2])\n",
    "    dic['h'].append(bbox[3])\n",
    "    dic['aspect'].append(float(bbox[2])/float(bbox[3]))\n",
    "    dic['log_aspect']= np.log(float(bbox[2])/float(bbox[3]))\n",
    "    dic['area'].append(anns['annotations'][i]['area'])\n",
    "    dic['log_area'].append(np.log(anns['annotations'][i]['area']))\n",
    "\n",
    "df = pd.DataFrame(dic)\n",
    "\n",
    "print(df.head())"
   ]
  },
  {
   "cell_type": "code",
   "execution_count": 43,
   "metadata": {},
   "outputs": [
    {
     "name": "stdout",
     "output_type": "stream",
     "text": [
      "class:  pedestrian\n",
      "count    16526.000000\n",
      "mean        38.168643\n",
      "std         35.787594\n",
      "min          1.000000\n",
      "25%         16.000000\n",
      "50%         26.500000\n",
      "75%         48.000000\n",
      "max        396.000000\n",
      "Name: w, dtype: float64\n"
     ]
    },
    {
     "data": {
      "image/png": "[encoded data removed]",
      "text/plain": [
       "<matplotlib.figure.Figure at 0x7f362b8ac290>"
      ]
     },
     "metadata": {},
     "output_type": "display_data"
    },
    {
     "name": "stdout",
     "output_type": "stream",
     "text": [
      "count    16526.000000\n",
      "mean       101.220319\n",
      "std         99.237549\n",
      "min          3.000000\n",
      "25%         36.000000\n",
      "50%         69.000000\n",
      "75%        131.000000\n",
      "max        913.000000\n",
      "Name: h, dtype: float64\n"
     ]
    },
    {
     "data": {
      "image/png": "[encoded data removed]",
      "text/plain": [
       "<matplotlib.figure.Figure at 0x7f365c7df1d0>"
      ]
     },
     "metadata": {},
     "output_type": "display_data"
    },
    {
     "data": {
      "image/png": "[encoded data removed]",
      "text/plain": [
       "<matplotlib.figure.Figure at 0x7f365cad8a90>"
      ]
     },
     "metadata": {},
     "output_type": "display_data"
    },
    {
     "name": "stdout",
     "output_type": "stream",
     "text": [
      "--------------------------------------------------------------------------------\n"
     ]
    }
   ],
   "source": [
    "for cls in category_instancesonly:\n",
    "    print('class: ', cls)\n",
    "    df2 = df[df['category']==cls]\n",
    "    df2['w'].hist(color='b', alpha=0.5, bins=100)\n",
    "    # 使用seaborn绘制\n",
    "    # sns.distplot(df2['w'], bins=100, kde=True, rug=True);\n",
    "    print(df2['w'].describe())\n",
    "    plt.show()\n",
    "    df2['h'].hist(color='b', alpha=0.5, bins=100)\n",
    "    # 使用seaborn绘制\n",
    "    # sns.distplot(df2['h'], bins=100, kde=True, rug=True);\n",
    "    print(df2['h'].describe())\n",
    "    plt.show()\n",
    "    sns.jointplot(x=\"w\", y=\"h\", data=df[df['category']==cls]);\n",
    "    plt.show()\n",
    "    print(80*'-')kuangaobi"
   ]
  },
  {
   "cell_type": "code",
   "execution_count": null,
   "metadata": {
    "collapsed": true
   },
   "outputs": [],
   "source": []
  }
 ],
 "metadata": {
  "kernelspec": {
   "display_name": "base",
   "language": "python",
   "name": "base"
  },
  "language_info": {
   "codemirror_mode": {
    "name": "ipython",
    "version": 2
   },
   "file_extension": ".py",
   "mimetype": "text/x-python",
   "name": "python",
   "nbconvert_exporter": "python",
   "pygments_lexer": "ipython2",
   "version": "2.7.14"
  }
 },
 "nbformat": 4,
 "nbformat_minor": 2
}
