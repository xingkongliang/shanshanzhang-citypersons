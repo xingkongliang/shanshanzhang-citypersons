{
 "cells": [
  {
   "cell_type": "code",
   "execution_count": 16,
   "metadata": {},
   "outputs": [],
   "source": [
    "from __future__ import absolute_import\n",
    "from __future__ import division\n",
    "from __future__ import print_function\n",
    "from __future__ import unicode_literals\n",
    "\n",
    "import numpy as np\n",
    "import pandas as pd\n",
    "from pandas.plotting import scatter_matrix\n",
    "\n",
    "import seaborn as sns\n",
    "sns.set(color_codes=True)\n",
    "import matplotlib.pyplot as plt\n",
    "\n",
    "import json\n",
    "import os\n",
    "import pprint\n",
    "import collections\n",
    "# COCO API\n",
    "from pycocotools import mask as COCOmask\n",
    "from pycocotools.coco import COCO"
   ]
  },
  {
   "cell_type": "code",
   "execution_count": 17,
   "metadata": {},
   "outputs": [],
   "source": [
    "category_to_id = {\n",
    "    'pedestrian': 1,\n",
    "}\n",
    "category_instancesonly = [\n",
    "    'pedestrian',\n",
    "]"
   ]
  },
  {
   "cell_type": "markdown",
   "metadata": {},
   "source": [
    "# Cityscapes 训练集数据分析\n",
    "## 读取文件"
   ]
  },
  {
   "cell_type": "code",
   "execution_count": 18,
   "metadata": {},
   "outputs": [
    {
     "name": "stdout",
     "output_type": "stream",
     "text": [
      "读取标注文件:  /media/tianliang/DATA/DataSets/Pedestrian_Datasets/data-USA/json_annotations/caltech_o30h40_train.json\n"
     ]
    },
    {
     "ename": "FileNotFoundError",
     "evalue": "[Errno 2] No such file or directory: '/media/tianliang/DATA/DataSets/Pedestrian_Datasets/data-USA/json_annotations/caltech_o30h40_train.json'",
     "output_type": "error",
     "traceback": [
      "\u001b[0;31m---------------------------------------------------------------------------\u001b[0m",
      "\u001b[0;31mFileNotFoundError\u001b[0m                         Traceback (most recent call last)",
      "\u001b[0;32m<ipython-input-18-44b10e82e668>\u001b[0m in \u001b[0;36m<module>\u001b[0;34m\u001b[0m\n\u001b[1;32m      3\u001b[0m \u001b[0mjson_file\u001b[0m \u001b[0;34m=\u001b[0m \u001b[0mos\u001b[0m\u001b[0;34m.\u001b[0m\u001b[0mpath\u001b[0m\u001b[0;34m.\u001b[0m\u001b[0mjoin\u001b[0m\u001b[0;34m(\u001b[0m\u001b[0mroot_dir\u001b[0m\u001b[0;34m,\u001b[0m \u001b[0mjson_name\u001b[0m\u001b[0;34m)\u001b[0m\u001b[0;34m\u001b[0m\u001b[0;34m\u001b[0m\u001b[0m\n\u001b[1;32m      4\u001b[0m \u001b[0mprint\u001b[0m\u001b[0;34m(\u001b[0m\u001b[0;34m'读取标注文件: '\u001b[0m\u001b[0;34m,\u001b[0m \u001b[0mjson_file\u001b[0m\u001b[0;34m)\u001b[0m\u001b[0;34m\u001b[0m\u001b[0;34m\u001b[0m\u001b[0m\n\u001b[0;32m----> 5\u001b[0;31m \u001b[0manns\u001b[0m \u001b[0;34m=\u001b[0m \u001b[0mjson\u001b[0m\u001b[0;34m.\u001b[0m\u001b[0mload\u001b[0m\u001b[0;34m(\u001b[0m\u001b[0mopen\u001b[0m\u001b[0;34m(\u001b[0m\u001b[0mjson_file\u001b[0m\u001b[0;34m)\u001b[0m\u001b[0;34m)\u001b[0m\u001b[0;34m\u001b[0m\u001b[0;34m\u001b[0m\u001b[0m\n\u001b[0m\u001b[1;32m      6\u001b[0m \u001b[0mprint\u001b[0m\u001b[0;34m(\u001b[0m\u001b[0;34m'json文件字典中的关键字: '\u001b[0m\u001b[0;34m,\u001b[0m \u001b[0manns\u001b[0m\u001b[0;34m.\u001b[0m\u001b[0mkeys\u001b[0m\u001b[0;34m(\u001b[0m\u001b[0;34m)\u001b[0m\u001b[0;34m)\u001b[0m\u001b[0;34m\u001b[0m\u001b[0;34m\u001b[0m\u001b[0m\n\u001b[1;32m      7\u001b[0m \u001b[0;31m# coco = COCO(json_file)\u001b[0m\u001b[0;34m\u001b[0m\u001b[0;34m\u001b[0m\u001b[0;34m\u001b[0m\u001b[0m\n",
      "\u001b[0;31mFileNotFoundError\u001b[0m: [Errno 2] No such file or directory: '/media/tianliang/DATA/DataSets/Pedestrian_Datasets/data-USA/json_annotations/caltech_o30h40_train.json'"
     ]
    }
   ],
   "source": [
    "root_dir = '/media/tianliang/DATA/DataSets/Pedestrian_Datasets/data-USA/json_annotations'\n",
    "json_name = 'caltech_o30h40_train.json'\n",
    "json_file = os.path.join(root_dir, json_name)\n",
    "print('读取标注文件: ', json_file)\n",
    "anns = json.load(open(json_file))\n",
    "print('json文件字典中的关键字: ', anns.keys())\n",
    "# coco = COCO(json_file)\n"
   ]
  },
  {
   "cell_type": "markdown",
   "metadata": {},
   "source": [
    "## 标注文件格式分析"
   ]
  },
  {
   "cell_type": "code",
   "execution_count": null,
   "metadata": {
    "scrolled": true
   },
   "outputs": [],
   "source": [
    "print('annotations 中的关键字:', anns['annotations'][0].keys())\n",
    "print('类别: ')\n",
    "pprint.pprint(anns['categories'])\n",
    "print('包含图片的数量: ', len(anns['images']))\n",
    "print('包含示例的数量: ', len(anns['annotations']))"
   ]
  },
  {
   "cell_type": "markdown",
   "metadata": {},
   "source": [
    "# 使用pandas转成DataFrame类型的数据格式"
   ]
  },
  {
   "cell_type": "code",
   "execution_count": 19,
   "metadata": {},
   "outputs": [
    {
     "name": "stdout",
     "output_type": "stream",
     "text": [
      "{'id': 1, 'name': 'pedestrian', 'supercategory': 'pedestrian'}\n",
      "{'1': 'pedestrian'}\n"
     ]
    }
   ],
   "source": [
    "id_to_category = {}\n",
    "for object_cls in anns['categories']:\n",
    "    print(object_cls)\n",
    "    if str(object_cls['id']) not in id_to_category:\n",
    "        id_to_category[str(object_cls['id'])] = object_cls['name']\n",
    "print(id_to_category)"
   ]
  },
  {
   "cell_type": "code",
   "execution_count": 20,
   "metadata": {},
   "outputs": [],
   "source": [
    "def map_rois_to_fpn_levels(areas, k_min=2, k_max=6):\n",
    "    \"\"\"Determine which FPN level each RoI in a set of RoIs should map to based\n",
    "    on the heuristic in the FPN paper.\n",
    "    \"\"\"\n",
    "    # Compute level ids\n",
    "    s = np.sqrt(areas)\n",
    "    s0 = 224  # default: 224\n",
    "    lvl0 = 4  # default: 4\n",
    "\n",
    "    # Eqn.(1) in FPN paper\n",
    "    target_lvls = np.floor(lvl0 + np.log2(s / s0 + 1e-6))\n",
    "    target_lvls = np.clip(target_lvls, k_min, k_max)\n",
    "    return target_lvls"
   ]
  },
  {
   "cell_type": "code",
   "execution_count": 21,
   "metadata": {},
   "outputs": [
    {
     "name": "stderr",
     "output_type": "stream",
     "text": [
      "/home/tianliang/anaconda3/lib/python3.7/site-packages/ipykernel_launcher.py:24: RuntimeWarning: divide by zero encountered in log\n",
      "/home/tianliang/anaconda3/lib/python3.7/site-packages/ipykernel_launcher.py:26: RuntimeWarning: divide by zero encountered in log2\n"
     ]
    },
    {
     "name": "stdout",
     "output_type": "stream",
     "text": [
      "   category_num    category   x1   y1  w   h    aspect  log_aspect  area  \\\n",
      "0             1  pedestrian  213  141  5   9  0.555556    -0.37949    45   \n",
      "1             1  pedestrian  216  140  5  10  0.500000    -0.37949    50   \n",
      "2             1  pedestrian  220  139  5  12  0.416667    -0.37949    60   \n",
      "3             1  pedestrian  221  138  5  12  0.416667    -0.37949    60   \n",
      "4             1  pedestrian  223  138  5  12  0.416667    -0.37949    60   \n",
      "\n",
      "   log_area  sqrt_area  target_lvls  \n",
      "0  5.491853   6.708204          2.0  \n",
      "1  5.643856   7.071068          2.0  \n",
      "2  5.906891   7.745967          2.0  \n",
      "3  5.906891   7.745967          2.0  \n",
      "4  5.906891   7.745967          2.0  \n"
     ]
    }
   ],
   "source": [
    "bboxes = np.empty((len(anns['annotations']), 9))\n",
    "dic = collections.OrderedDict()\n",
    "dic['category_num'] = []\n",
    "dic['category'] = []\n",
    "dic['x1'] = []\n",
    "dic['y1'] = []\n",
    "dic['w'] = []\n",
    "dic['h'] = []\n",
    "dic['aspect'] = []\n",
    "dic['log_aspect'] = []\n",
    "dic['area'] = []\n",
    "dic['log_area'] = []\n",
    "dic['sqrt_area'] = []\n",
    "dic['target_lvls'] = []\n",
    "for i in range(len(anns['annotations'])):\n",
    "    bbox = anns['annotations'][i]['bbox']\n",
    "    dic['category_num'].append(anns['annotations'][i]['category_id'])\n",
    "    dic['category'].append(id_to_category[str(anns['annotations'][i]['category_id'])])\n",
    "    dic['x1'].append(bbox[0])\n",
    "    dic['y1'].append(bbox[1])\n",
    "    dic['w'].append(bbox[2])\n",
    "    dic['h'].append(bbox[3])\n",
    "    dic['aspect'].append(float(bbox[2])/float(bbox[3]))\n",
    "    dic['log_aspect']= np.log(float(bbox[2])/float(bbox[3]))\n",
    "    dic['area'].append(anns['annotations'][i]['area'])\n",
    "    dic['log_area'].append(np.log2(anns['annotations'][i]['area']))\n",
    "    dic['sqrt_area'].append(np.sqrt(anns['annotations'][i]['area']))\n",
    "    dic['target_lvls'].append(map_rois_to_fpn_levels(anns['annotations'][i]['area'], k_min=2, k_max=5))\n",
    "\n",
    "df = pd.DataFrame(dic)\n",
    "\n",
    "print(df.head())"
   ]
  },
  {
   "cell_type": "code",
   "execution_count": 22,
   "metadata": {
    "scrolled": false
   },
   "outputs": [
    {
     "data": {
      "text/html": [
       "<div>\n",
       "<style scoped>\n",
       "    .dataframe tbody tr th:only-of-type {\n",
       "        vertical-align: middle;\n",
       "    }\n",
       "\n",
       "    .dataframe tbody tr th {\n",
       "        vertical-align: top;\n",
       "    }\n",
       "\n",
       "    .dataframe thead th {\n",
       "        text-align: right;\n",
       "    }\n",
       "</style>\n",
       "<table border=\"1\" class=\"dataframe\">\n",
       "  <thead>\n",
       "    <tr style=\"text-align: right;\">\n",
       "      <th></th>\n",
       "      <th>category_num</th>\n",
       "      <th>category</th>\n",
       "      <th>x1</th>\n",
       "      <th>y1</th>\n",
       "      <th>w</th>\n",
       "      <th>h</th>\n",
       "      <th>aspect</th>\n",
       "      <th>log_aspect</th>\n",
       "      <th>area</th>\n",
       "      <th>log_area</th>\n",
       "      <th>sqrt_area</th>\n",
       "      <th>target_lvls</th>\n",
       "    </tr>\n",
       "  </thead>\n",
       "  <tbody>\n",
       "    <tr>\n",
       "      <th>0</th>\n",
       "      <td>1</td>\n",
       "      <td>pedestrian</td>\n",
       "      <td>213</td>\n",
       "      <td>141</td>\n",
       "      <td>5</td>\n",
       "      <td>9</td>\n",
       "      <td>0.555556</td>\n",
       "      <td>-0.37949</td>\n",
       "      <td>45</td>\n",
       "      <td>5.491853</td>\n",
       "      <td>6.708204</td>\n",
       "      <td>2.0</td>\n",
       "    </tr>\n",
       "    <tr>\n",
       "      <th>1</th>\n",
       "      <td>1</td>\n",
       "      <td>pedestrian</td>\n",
       "      <td>216</td>\n",
       "      <td>140</td>\n",
       "      <td>5</td>\n",
       "      <td>10</td>\n",
       "      <td>0.500000</td>\n",
       "      <td>-0.37949</td>\n",
       "      <td>50</td>\n",
       "      <td>5.643856</td>\n",
       "      <td>7.071068</td>\n",
       "      <td>2.0</td>\n",
       "    </tr>\n",
       "    <tr>\n",
       "      <th>2</th>\n",
       "      <td>1</td>\n",
       "      <td>pedestrian</td>\n",
       "      <td>220</td>\n",
       "      <td>139</td>\n",
       "      <td>5</td>\n",
       "      <td>12</td>\n",
       "      <td>0.416667</td>\n",
       "      <td>-0.37949</td>\n",
       "      <td>60</td>\n",
       "      <td>5.906891</td>\n",
       "      <td>7.745967</td>\n",
       "      <td>2.0</td>\n",
       "    </tr>\n",
       "    <tr>\n",
       "      <th>3</th>\n",
       "      <td>1</td>\n",
       "      <td>pedestrian</td>\n",
       "      <td>221</td>\n",
       "      <td>138</td>\n",
       "      <td>5</td>\n",
       "      <td>12</td>\n",
       "      <td>0.416667</td>\n",
       "      <td>-0.37949</td>\n",
       "      <td>60</td>\n",
       "      <td>5.906891</td>\n",
       "      <td>7.745967</td>\n",
       "      <td>2.0</td>\n",
       "    </tr>\n",
       "    <tr>\n",
       "      <th>4</th>\n",
       "      <td>1</td>\n",
       "      <td>pedestrian</td>\n",
       "      <td>223</td>\n",
       "      <td>138</td>\n",
       "      <td>5</td>\n",
       "      <td>12</td>\n",
       "      <td>0.416667</td>\n",
       "      <td>-0.37949</td>\n",
       "      <td>60</td>\n",
       "      <td>5.906891</td>\n",
       "      <td>7.745967</td>\n",
       "      <td>2.0</td>\n",
       "    </tr>\n",
       "  </tbody>\n",
       "</table>\n",
       "</div>"
      ],
      "text/plain": [
       "   category_num    category   x1   y1  w   h    aspect  log_aspect  area  \\\n",
       "0             1  pedestrian  213  141  5   9  0.555556    -0.37949    45   \n",
       "1             1  pedestrian  216  140  5  10  0.500000    -0.37949    50   \n",
       "2             1  pedestrian  220  139  5  12  0.416667    -0.37949    60   \n",
       "3             1  pedestrian  221  138  5  12  0.416667    -0.37949    60   \n",
       "4             1  pedestrian  223  138  5  12  0.416667    -0.37949    60   \n",
       "\n",
       "   log_area  sqrt_area  target_lvls  \n",
       "0  5.491853   6.708204          2.0  \n",
       "1  5.643856   7.071068          2.0  \n",
       "2  5.906891   7.745967          2.0  \n",
       "3  5.906891   7.745967          2.0  \n",
       "4  5.906891   7.745967          2.0  "
      ]
     },
     "execution_count": 22,
     "metadata": {},
     "output_type": "execute_result"
    }
   ],
   "source": [
    "df.head()"
   ]
  },
  {
   "cell_type": "markdown",
   "metadata": {},
   "source": [
    "## 样本分布可视化"
   ]
  },
  {
   "cell_type": "code",
   "execution_count": 23,
   "metadata": {
    "scrolled": false
   },
   "outputs": [
    {
     "name": "stdout",
     "output_type": "stream",
     "text": [
      "class:  pedestrian\n",
      "count    51092.000000\n",
      "mean        26.673863\n",
      "std         21.396140\n",
      "min          0.000000\n",
      "25%         16.000000\n",
      "50%         21.000000\n",
      "75%         29.000000\n",
      "max        244.000000\n",
      "Name: w, dtype: float64\n"
     ]
    },
    {
     "data": {
      "image/png": "[encoded data removed]",
      "text/plain": [
       "<Figure size 432x288 with 1 Axes>"
      ]
     },
     "metadata": {},
     "output_type": "display_data"
    },
    {
     "name": "stdout",
     "output_type": "stream",
     "text": [
      "count    51092.000000\n",
      "mean        65.977531\n",
      "std         53.938075\n",
      "min          7.000000\n",
      "25%         36.000000\n",
      "50%         51.000000\n",
      "75%         73.000000\n",
      "max        476.000000\n",
      "Name: h, dtype: float64\n"
     ]
    },
    {
     "data": {
      "image/png": "[encoded data removed]",
      "text/plain": [
       "<Figure size 432x288 with 1 Axes>"
      ]
     },
     "metadata": {},
     "output_type": "display_data"
    },
    {
     "data": {
      "image/png": "[encoded data removed]",
      "text/plain": [
       "<Figure size 432x432 with 3 Axes>"
      ]
     },
     "metadata": {},
     "output_type": "display_data"
    },
    {
     "name": "stdout",
     "output_type": "stream",
     "text": [
      "--------------------------------------------------------------------------------\n"
     ]
    }
   ],
   "source": [
    "for cls in category_instancesonly:\n",
    "    print('class: ', cls)\n",
    "    df2 = df[df['category']==cls]\n",
    "    df2['w'].hist(color='b', alpha=0.5, bins=100)\n",
    "    # 使用seaborn绘制\n",
    "    # sns.distplot(df2['w'], bins=100, kde=True, rug=True);\n",
    "    print(df2['w'].describe())\n",
    "    plt.show()\n",
    "    df2['h'].hist(color='b', alpha=0.5, bins=100)\n",
    "    # 使用seaborn绘制\n",
    "    # sns.distplot(df2['h'], bins=100, kde=True, rug=True);\n",
    "    print(df2['h'].describe())\n",
    "    plt.show()\n",
    "    sns.jointplot(x=\"w\", y=\"h\", data=df[df['category']==cls]);\n",
    "    plt.show()\n",
    "    print(80*'-')"
   ]
  },
  {
   "cell_type": "markdown",
   "metadata": {},
   "source": [
    "# FPN中anchor的尺寸选取"
   ]
  },
  {
   "cell_type": "code",
   "execution_count": 24,
   "metadata": {},
   "outputs": [
    {
     "data": {
      "image/png": "[encoded data removed]",
      "text/plain": [
       "<Figure size 432x288 with 1 Axes>"
      ]
     },
     "metadata": {},
     "output_type": "display_data"
    }
   ],
   "source": [
    "power = np.array([0, 1, 2])\n",
    "plt.scatter(np.log(np.ones((len(power)))*0.41), 14 * 2. ** power, c='r', marker='.')\n",
    "plt.scatter(np.log(np.ones((len(power)))*0.41), 18 * 2. ** power, c='b', marker='.')\n",
    "plt.scatter(np.log(np.ones((len(power)))*0.41), 23 * 2. ** power, c='g', marker='.')\n",
    "plt.scatter(np.log(np.ones((len(power)))*0.41), 32 * 2. ** power, c='y', marker='.')\n",
    "plt.show()"
   ]
  },
  {
   "cell_type": "code",
   "execution_count": 25,
   "metadata": {
    "scrolled": false
   },
   "outputs": [
    {
     "name": "stderr",
     "output_type": "stream",
     "text": [
      "/home/tianliang/anaconda3/lib/python3.7/site-packages/ipykernel_launcher.py:1: RuntimeWarning: divide by zero encountered in log\n",
      "  \"\"\"Entry point for launching an IPython kernel.\n"
     ]
    },
    {
     "data": {
      "image/png": "[encoded data removed]",
      "text/plain": [
       "<Figure size 432x288 with 1 Axes>"
      ]
     },
     "metadata": {},
     "output_type": "display_data"
    }
   ],
   "source": [
    "plt.scatter(np.log(df2['w']/df2['h']), np.sqrt(df2['w']*df2['h']))\n",
    "# plt.scatter(df2['w']/df2['h'], np.sqrt(df2['w']*df2['h']))\n",
    "power = np.array([0, 1, 2, 3, 4])\n",
    "plt.scatter(np.log(np.ones((len(power)))*0.41), 14 * 2. ** power, c='r', marker='.')\n",
    "plt.scatter(np.log(np.ones((len(power)))*0.41), 18 * 2. ** power, c='b', marker='.')\n",
    "plt.scatter(np.log(np.ones((len(power)))*0.41), 23 * 2. ** power, c='g', marker='.')\n",
    "plt.scatter(np.log(np.ones((len(power)))*0.41), 32 * 2. ** power, c='y', marker='.')\n",
    "plt.show()"
   ]
  },
  {
   "cell_type": "markdown",
   "metadata": {},
   "source": [
    "# anchor的尺寸选取（单层特征，stride=8）"
   ]
  },
  {
   "cell_type": "code",
   "execution_count": 26,
   "metadata": {
    "scrolled": false
   },
   "outputs": [
    {
     "name": "stdout",
     "output_type": "stream",
     "text": [
      "class:  pedestrian\n",
      "count    51092.000000\n",
      "mean        41.740034\n",
      "std         33.748091\n",
      "min          0.000000\n",
      "25%         24.372115\n",
      "50%         31.937439\n",
      "75%         45.376205\n",
      "max        317.061508\n",
      "dtype: float64\n"
     ]
    },
    {
     "data": {
      "image/png": "[encoded data removed]",
      "text/plain": [
       "<Figure size 432x288 with 1 Axes>"
      ]
     },
     "metadata": {},
     "output_type": "display_data"
    },
    {
     "name": "stdout",
     "output_type": "stream",
     "text": [
      "--------------------------------------------------------------------------------\n"
     ]
    }
   ],
   "source": [
    "for cls in category_instancesonly:\n",
    "    print('class: ', cls)\n",
    "    df2 = df[df['category']==cls]\n",
    "    df2 = np.sqrt(df2['w']*df2['h'])*1.0  # upsample x1.0\n",
    "    # df2.plot.hist(stacked=True, bins=100)\n",
    "    df2.hist(color='b', alpha=0.5, bins=100)\n",
    "    print(df2.describe())\n",
    "    plt.show()\n",
    "    print(80*'-')"
   ]
  },
  {
   "cell_type": "markdown",
   "metadata": {},
   "source": [
    "\n",
    "`param_str: \"'feat_stride': 8 \\n'scales': !!python/tuple [2.0, 2.7, 3.64, 4.92, 6.64, 8.97, 12.11, 16.34, 22.06, 29.79, 40.21]\\n'ratios': !!python/tuple [2.44]\"`\n"
   ]
  },
  {
   "cell_type": "code",
   "execution_count": 27,
   "metadata": {
    "scrolled": false
   },
   "outputs": [
    {
     "name": "stdout",
     "output_type": "stream",
     "text": [
      "51092\n",
      "1 4257:  37207    19.899749\n",
      "dtype: float64\n",
      "2 8515:  44017    22.956481\n",
      "dtype: float64\n",
      "3 12773:  13620    25.455844\n",
      "dtype: float64\n",
      "4 17030:  12419    28.142495\n",
      "dtype: float64\n",
      "5 21288:  2185    30.88689\n",
      "dtype: float64\n",
      "6 25546:  39023    33.763886\n",
      "dtype: float64\n",
      "7 29803:  38635    37.947332\n",
      "dtype: float64\n",
      "8 34061:  7022    42.532341\n",
      "dtype: float64\n",
      "9 38319:  46997    48.856934\n",
      "dtype: float64\n",
      "10 42576:  24687    61.506097\n",
      "dtype: float64\n",
      "11 46834:  10534    122.057364\n",
      "dtype: float64\n"
     ]
    }
   ],
   "source": [
    "print(len(df2.sort_values()))\n",
    "df2_len = len(df2.sort_values())\n",
    "df2_sort = df2.sort_values()\n",
    "for i in range(1, 12):\n",
    "    print(\"{} {}:  {}\".format(i, int(i*df2_len/12), df2_sort[int((i+0.5)*df2_len/12-1):int((i+0.5)*df2_len/12)]))"
   ]
  },
  {
   "cell_type": "markdown",
   "metadata": {},
   "source": [
    "### upsample x2.0"
   ]
  },
  {
   "cell_type": "code",
   "execution_count": 28,
   "metadata": {
    "scrolled": false
   },
   "outputs": [
    {
     "name": "stdout",
     "output_type": "stream",
     "text": [
      "class:  pedestrian\n",
      "count    51092.000000\n",
      "mean        83.480068\n",
      "std         67.496183\n",
      "min          0.000000\n",
      "25%         48.744230\n",
      "50%         63.874878\n",
      "75%         90.752410\n",
      "max        634.123016\n",
      "dtype: float64\n"
     ]
    },
    {
     "data": {
      "image/png": "[encoded data removed]",
      "text/plain": [
       "<Figure size 432x288 with 1 Axes>"
      ]
     },
     "metadata": {},
     "output_type": "display_data"
    },
    {
     "name": "stdout",
     "output_type": "stream",
     "text": [
      "--------------------------------------------------------------------------------\n"
     ]
    }
   ],
   "source": [
    "for cls in category_instancesonly:\n",
    "    print('class: ', cls)\n",
    "    df2 = df[df['category']==cls]\n",
    "    df2 = np.sqrt(df2['w']*df2['h'])*2.0  # upsample x1.3\n",
    "    # df2.plot.hist(stacked=True, bins=100)\n",
    "    df2.hist(color='b', alpha=0.5, bins=100)\n",
    "    print(df2.describe())\n",
    "    plt.show()\n",
    "    print(80*'-')"
   ]
  },
  {
   "cell_type": "markdown",
   "metadata": {},
   "source": [
    "\n",
    "`param_str: \"'feat_stride': 8 \\n'scales': !!python/tuple [2.0, 2.7, 3.64, 4.92, 6.64, 8.97, 12.11, 16.34, 22.06, 29.79, 40.21]\\n'ratios': !!python/tuple [2.44]\"`\n"
   ]
  },
  {
   "cell_type": "code",
   "execution_count": 29,
   "metadata": {
    "scrolled": true
   },
   "outputs": [
    {
     "name": "stdout",
     "output_type": "stream",
     "text": [
      "51092\n",
      "1 4257:  37207    39.799497\n",
      "dtype: float64\n",
      "2 8515:  44017    45.912961\n",
      "dtype: float64\n",
      "3 12773:  13620    50.911688\n",
      "dtype: float64\n",
      "4 17030:  12419    56.284989\n",
      "dtype: float64\n",
      "5 21288:  2185    61.773781\n",
      "dtype: float64\n",
      "6 25546:  39023    67.527772\n",
      "dtype: float64\n",
      "7 29803:  38635    75.894664\n",
      "dtype: float64\n",
      "8 34061:  7022    85.064681\n",
      "dtype: float64\n",
      "9 38319:  46997    97.713868\n",
      "dtype: float64\n",
      "10 42576:  24687    123.012195\n",
      "dtype: float64\n",
      "11 46834:  10534    244.114727\n",
      "dtype: float64\n"
     ]
    }
   ],
   "source": [
    "print(len(df2.sort_values()))\n",
    "df2_len = len(df2.sort_values())\n",
    "df2_sort = df2.sort_values()\n",
    "for i in range(1, 12):\n",
    "    print(\"{} {}:  {}\".format(i, int(i*df2_len/12), df2_sort[int((i+0.5)*df2_len/12-1):int((i+0.5)*df2_len/12)]))"
   ]
  },
  {
   "attachments": {
    "image.png": {
     "image/png": "[encoded data removed]"
    }
   },
   "cell_type": "markdown",
   "metadata": {},
   "source": [
    "比较窄的那些框是因为被图片的边缘阶段了，例如下图：\n",
    "\n",
    "![image.png](attachment:image.png)"
   ]
  },
  {
   "cell_type": "markdown",
   "metadata": {},
   "source": [
    "## 宽高比"
   ]
  },
  {
   "cell_type": "code",
   "execution_count": 30,
   "metadata": {
    "scrolled": false
   },
   "outputs": [
    {
     "name": "stdout",
     "output_type": "stream",
     "text": [
      "class:  pedestrian\n",
      "count    51092.000000\n",
      "mean         0.422369\n",
      "std          0.097144\n",
      "min          0.000000\n",
      "25%          0.396226\n",
      "50%          0.404762\n",
      "75%          0.428571\n",
      "max          1.714286\n",
      "Name: aspect, dtype: float64\n"
     ]
    },
    {
     "data": {
      "image/png": "[encoded data removed]",
      "text/plain": [
       "<Figure size 432x288 with 1 Axes>"
      ]
     },
     "metadata": {},
     "output_type": "display_data"
    },
    {
     "name": "stdout",
     "output_type": "stream",
     "text": [
      "--------------------------------------------------------------------------------\n"
     ]
    }
   ],
   "source": [
    "for cls in category_instancesonly:\n",
    "    print('class: ', cls)\n",
    "    df2 = df[df['category']==cls]\n",
    "    df2 = df2['aspect']\n",
    "    # df2.plot.hist(stacked=True, bins=100)\n",
    "    df2.hist(color='b', alpha=0.5, bins=100)\n",
    "    print(df2.describe())\n",
    "    plt.show()\n",
    "    print(80*'-')"
   ]
  },
  {
   "cell_type": "code",
   "execution_count": 31,
   "metadata": {
    "scrolled": true
   },
   "outputs": [
    {
     "name": "stdout",
     "output_type": "stream",
     "text": [
      "class:  pedestrian\n",
      "count    51092.000000\n",
      "mean        41.940409\n",
      "std         33.815976\n",
      "min          0.000000\n",
      "25%         24.372115\n",
      "50%         32.649655\n",
      "75%         45.453273\n",
      "max        317.061508\n",
      "Name: sqrt_area, dtype: float64\n"
     ]
    },
    {
     "data": {
      "image/png": "[encoded data removed]",
      "text/plain": [
       "<Figure size 432x288 with 1 Axes>"
      ]
     },
     "metadata": {},
     "output_type": "display_data"
    },
    {
     "name": "stdout",
     "output_type": "stream",
     "text": [
      "--------------------------------------------------------------------------------\n"
     ]
    }
   ],
   "source": [
    "for cls in category_instancesonly:\n",
    "    print('class: ', cls)\n",
    "    df2 = df[df['category']==cls]\n",
    "    df2 = df2['sqrt_area']\n",
    "    # df2.plot.hist(stacked=True, bins=100)\n",
    "    df2.hist(color='b', alpha=0.5, bins=100)\n",
    "    print(df2.describe())\n",
    "    plt.show()\n",
    "    print(80*'-')"
   ]
  },
  {
   "cell_type": "markdown",
   "metadata": {},
   "source": [
    "## FPN目标分层分布图"
   ]
  },
  {
   "cell_type": "code",
   "execution_count": 32,
   "metadata": {
    "scrolled": false
   },
   "outputs": [
    {
     "name": "stdout",
     "output_type": "stream",
     "text": [
      "class:  pedestrian\n",
      "count    51092.000000\n",
      "mean         2.054275\n",
      "std          0.256160\n",
      "min          2.000000\n",
      "25%          2.000000\n",
      "50%          2.000000\n",
      "75%          2.000000\n",
      "max          4.000000\n",
      "Name: target_lvls, dtype: float64\n"
     ]
    },
    {
     "data": {
      "image/png": "[encoded data removed]",
      "text/plain": [
       "<Figure size 432x288 with 1 Axes>"
      ]
     },
     "metadata": {},
     "output_type": "display_data"
    },
    {
     "name": "stdout",
     "output_type": "stream",
     "text": [
      "--------------------------------------------------------------------------------\n"
     ]
    }
   ],
   "source": [
    "for cls in category_instancesonly:\n",
    "    print('class: ', cls)\n",
    "    df2 = df[df['category']==cls]\n",
    "    df2 = df2['target_lvls']\n",
    "    # df2.plot.hist(stacked=True, bins=100)\n",
    "    df2.hist(color='b', alpha=0.5, bins=100)\n",
    "    print(df2.describe())\n",
    "    plt.show()\n",
    "    print(80*'-')"
   ]
  },
  {
   "cell_type": "code",
   "execution_count": 33,
   "metadata": {
    "scrolled": false
   },
   "outputs": [
    {
     "data": {
      "text/plain": [
       "2.0    48684\n",
       "3.0     2043\n",
       "4.0      365\n",
       "Name: target_lvls, dtype: int64"
      ]
     },
     "execution_count": 33,
     "metadata": {},
     "output_type": "execute_result"
    }
   ],
   "source": [
    "df2.value_counts()"
   ]
  },
  {
   "cell_type": "markdown",
   "metadata": {},
   "source": [
    "## 改进一点点"
   ]
  },
  {
   "cell_type": "code",
   "execution_count": 34,
   "metadata": {},
   "outputs": [],
   "source": [
    "def map_rois_to_fpn_levels3(areas, k_min=2, k_max=5):\n",
    "    \"\"\"Determine which FPN level each RoI in a set of RoIs should map to based\n",
    "    on the heuristic in the FPN paper.\n",
    "    \"\"\"\n",
    "    # Compute level ids\n",
    "    s = np.sqrt(areas)\n",
    "    s0 = 112 # default: 224\n",
    "    lvl0 = 4  # default: 4\n",
    "\n",
    "    # Eqn.(1) in FPN paper\n",
    "    target_lvls = np.floor(lvl0 + np.log(s / s0 + 1e-6))\n",
    "    # target_lvls = np.floor(lvl0 + np.log(s / s0 + 1e-6)/np.log(2))\n",
    "    target_lvls = np.clip(target_lvls, k_min, k_max)\n",
    "    return target_lvls"
   ]
  },
  {
   "cell_type": "code",
   "execution_count": 35,
   "metadata": {},
   "outputs": [],
   "source": [
    "target_lvls3 = []\n",
    "for area in dic['area']:\n",
    "    target_lvls3.append(map_rois_to_fpn_levels3(area, k_min=2, k_max=5))"
   ]
  },
  {
   "cell_type": "code",
   "execution_count": 36,
   "metadata": {
    "scrolled": true
   },
   "outputs": [
    {
     "data": {
      "image/png": "[encoded data removed]",
      "text/plain": [
       "<Figure size 432x288 with 1 Axes>"
      ]
     },
     "metadata": {},
     "output_type": "display_data"
    },
    {
     "data": {
      "text/plain": [
       "2.0    35006\n",
       "3.0    13678\n",
       "4.0     2404\n",
       "5.0        4\n",
       "Name: target_lvls, dtype: int64"
      ]
     },
     "execution_count": 36,
     "metadata": {},
     "output_type": "execute_result"
    }
   ],
   "source": [
    "dic_area3 = dict()\n",
    "dic_area3['target_lvls'] = target_lvls3\n",
    "df_target_lvls3 = pd.DataFrame(dic_area3)\n",
    "df_target_lvls3.hist(color='b', alpha=0.5, bins=100)\n",
    "plt.show()\n",
    "df_target_lvls3['target_lvls'].value_counts()"
   ]
  },
  {
   "cell_type": "code",
   "execution_count": 37,
   "metadata": {},
   "outputs": [
    {
     "name": "stdout",
     "output_type": "stream",
     "text": [
      "[2. 2. 2. ... 5. 5. 5.]\n"
     ]
    },
    {
     "data": {
      "text/plain": [
       "(array([35005, 48683, 51087]),)"
      ]
     },
     "execution_count": 37,
     "metadata": {},
     "output_type": "execute_result"
    }
   ],
   "source": [
    "target_lvls = np.sort(target_lvls3)\n",
    "print(target_lvls)\n",
    "out = target_lvls - np.hstack((target_lvls[1:], target_lvls[0]))\n",
    "np.where(out==-1)"
   ]
  },
  {
   "cell_type": "markdown",
   "metadata": {},
   "source": [
    "## 改进后的特征提取层分配"
   ]
  },
  {
   "cell_type": "code",
   "execution_count": 38,
   "metadata": {},
   "outputs": [],
   "source": [
    "def map_rois_to_fpn_levels2(areas, k_min=2, k_max=5):\n",
    "    \"\"\"Determine which FPN level each RoI in a set of RoIs should map to based\n",
    "    on the heuristic in the FPN paper.\n",
    "    \"\"\"\n",
    "    # Compute level ids\n",
    "    s = np.sqrt(areas)\n",
    "    s0 = 112 # default: 224\n",
    "    lvl0 = 4  # default: 4\n",
    "\n",
    "    # Eqn.(1) in FPN paper\n",
    "    target_lvls = np.floor(lvl0 + np.log(s / s0 + 1e-6)/np.log(2))\n",
    "    target_lvls = np.clip(target_lvls, k_min, k_max)\n",
    "    return target_lvls"
   ]
  },
  {
   "cell_type": "code",
   "execution_count": 39,
   "metadata": {},
   "outputs": [],
   "source": [
    "target_lvls2 = []\n",
    "for area in dic['area']:\n",
    "    target_lvls2.append(map_rois_to_fpn_levels2(area, k_min=2, k_max=5))"
   ]
  },
  {
   "cell_type": "code",
   "execution_count": 40,
   "metadata": {
    "scrolled": true
   },
   "outputs": [
    {
     "data": {
      "image/png": "[encoded data removed]",
      "text/plain": [
       "<Figure size 432x288 with 1 Axes>"
      ]
     },
     "metadata": {},
     "output_type": "display_data"
    },
    {
     "data": {
      "text/plain": [
       "2.0    43123\n",
       "3.0     5561\n",
       "4.0     2043\n",
       "5.0      365\n",
       "Name: target_lvls, dtype: int64"
      ]
     },
     "execution_count": 40,
     "metadata": {},
     "output_type": "execute_result"
    }
   ],
   "source": [
    "dic_area = dict()\n",
    "dic_area['target_lvls'] = target_lvls2\n",
    "df_target_lvls2 = pd.DataFrame(dic_area)\n",
    "df_target_lvls2.hist(color='b', alpha=0.5, bins=100)\n",
    "plt.show()\n",
    "df_target_lvls2['target_lvls'].value_counts()"
   ]
  },
  {
   "cell_type": "code",
   "execution_count": 41,
   "metadata": {},
   "outputs": [
    {
     "name": "stdout",
     "output_type": "stream",
     "text": [
      "[2. 2. 2. ... 5. 5. 5.]\n"
     ]
    },
    {
     "data": {
      "text/plain": [
       "(array([43122, 48683, 50726]),)"
      ]
     },
     "execution_count": 41,
     "metadata": {},
     "output_type": "execute_result"
    }
   ],
   "source": [
    "target_lvls = np.sort(target_lvls2)\n",
    "print(target_lvls)\n",
    "out = target_lvls - np.hstack((target_lvls[1:], target_lvls[0]))\n",
    "np.where(out==-1)"
   ]
  },
  {
   "cell_type": "markdown",
   "metadata": {},
   "source": [
    "# 可见部分的框"
   ]
  },
  {
   "cell_type": "code",
   "execution_count": 42,
   "metadata": {},
   "outputs": [
    {
     "ename": "ZeroDivisionError",
     "evalue": "float division by zero",
     "output_type": "error",
     "traceback": [
      "\u001b[0;31m---------------------------------------------------------------------------\u001b[0m",
      "\u001b[0;31mZeroDivisionError\u001b[0m                         Traceback (most recent call last)",
      "\u001b[0;32m<ipython-input-42-da30ca9b6d1a>\u001b[0m in \u001b[0;36m<module>\u001b[0;34m\u001b[0m\n\u001b[1;32m     19\u001b[0m     \u001b[0mdic\u001b[0m\u001b[0;34m[\u001b[0m\u001b[0;34m'w'\u001b[0m\u001b[0;34m]\u001b[0m\u001b[0;34m.\u001b[0m\u001b[0mappend\u001b[0m\u001b[0;34m(\u001b[0m\u001b[0mbbox\u001b[0m\u001b[0;34m[\u001b[0m\u001b[0;36m2\u001b[0m\u001b[0;34m]\u001b[0m\u001b[0;34m)\u001b[0m\u001b[0;34m\u001b[0m\u001b[0;34m\u001b[0m\u001b[0m\n\u001b[1;32m     20\u001b[0m     \u001b[0mdic\u001b[0m\u001b[0;34m[\u001b[0m\u001b[0;34m'h'\u001b[0m\u001b[0;34m]\u001b[0m\u001b[0;34m.\u001b[0m\u001b[0mappend\u001b[0m\u001b[0;34m(\u001b[0m\u001b[0mbbox\u001b[0m\u001b[0;34m[\u001b[0m\u001b[0;36m3\u001b[0m\u001b[0;34m]\u001b[0m\u001b[0;34m)\u001b[0m\u001b[0;34m\u001b[0m\u001b[0;34m\u001b[0m\u001b[0m\n\u001b[0;32m---> 21\u001b[0;31m     \u001b[0mdic\u001b[0m\u001b[0;34m[\u001b[0m\u001b[0;34m'aspect'\u001b[0m\u001b[0;34m]\u001b[0m\u001b[0;34m.\u001b[0m\u001b[0mappend\u001b[0m\u001b[0;34m(\u001b[0m\u001b[0mfloat\u001b[0m\u001b[0;34m(\u001b[0m\u001b[0mbbox\u001b[0m\u001b[0;34m[\u001b[0m\u001b[0;36m2\u001b[0m\u001b[0;34m]\u001b[0m\u001b[0;34m)\u001b[0m\u001b[0;34m/\u001b[0m\u001b[0mfloat\u001b[0m\u001b[0;34m(\u001b[0m\u001b[0mbbox\u001b[0m\u001b[0;34m[\u001b[0m\u001b[0;36m3\u001b[0m\u001b[0;34m]\u001b[0m\u001b[0;34m)\u001b[0m\u001b[0;34m)\u001b[0m\u001b[0;34m\u001b[0m\u001b[0;34m\u001b[0m\u001b[0m\n\u001b[0m\u001b[1;32m     22\u001b[0m     \u001b[0mdic\u001b[0m\u001b[0;34m[\u001b[0m\u001b[0;34m'log_aspect'\u001b[0m\u001b[0;34m]\u001b[0m\u001b[0;34m=\u001b[0m \u001b[0mnp\u001b[0m\u001b[0;34m.\u001b[0m\u001b[0mlog\u001b[0m\u001b[0;34m(\u001b[0m\u001b[0mfloat\u001b[0m\u001b[0;34m(\u001b[0m\u001b[0mbbox\u001b[0m\u001b[0;34m[\u001b[0m\u001b[0;36m2\u001b[0m\u001b[0;34m]\u001b[0m\u001b[0;34m)\u001b[0m\u001b[0;34m/\u001b[0m\u001b[0mfloat\u001b[0m\u001b[0;34m(\u001b[0m\u001b[0mbbox\u001b[0m\u001b[0;34m[\u001b[0m\u001b[0;36m3\u001b[0m\u001b[0;34m]\u001b[0m\u001b[0;34m)\u001b[0m\u001b[0;34m)\u001b[0m\u001b[0;34m\u001b[0m\u001b[0;34m\u001b[0m\u001b[0m\n\u001b[1;32m     23\u001b[0m     \u001b[0mdic\u001b[0m\u001b[0;34m[\u001b[0m\u001b[0;34m'area'\u001b[0m\u001b[0;34m]\u001b[0m\u001b[0;34m.\u001b[0m\u001b[0mappend\u001b[0m\u001b[0;34m(\u001b[0m\u001b[0manns\u001b[0m\u001b[0;34m[\u001b[0m\u001b[0;34m'annotations'\u001b[0m\u001b[0;34m]\u001b[0m\u001b[0;34m[\u001b[0m\u001b[0mi\u001b[0m\u001b[0;34m]\u001b[0m\u001b[0;34m[\u001b[0m\u001b[0;34m'area'\u001b[0m\u001b[0;34m]\u001b[0m\u001b[0;34m)\u001b[0m\u001b[0;34m\u001b[0m\u001b[0;34m\u001b[0m\u001b[0m\n",
      "\u001b[0;31mZeroDivisionError\u001b[0m: float division by zero"
     ]
    }
   ],
   "source": [
    "bboxes = np.empty((len(anns['annotations']), 9))\n",
    "dic = collections.OrderedDict()\n",
    "dic['category_num'] = []\n",
    "dic['category'] = []\n",
    "dic['x1'] = []\n",
    "dic['y1'] = []\n",
    "dic['w'] = []\n",
    "dic['h'] = []\n",
    "dic['aspect'] = []\n",
    "dic['log_aspect'] = []\n",
    "dic['area'] = []\n",
    "dic['log_area'] = []\n",
    "for i in range(len(anns['annotations'])):\n",
    "    bbox = anns['annotations'][i]['posv']\n",
    "    dic['category_num'].append(anns['annotations'][i]['category_id'])\n",
    "    dic['category'].append(id_to_category[str(anns['annotations'][i]['category_id'])])\n",
    "    dic['x1'].append(bbox[0])\n",
    "    dic['y1'].append(bbox[1])\n",
    "    dic['w'].append(bbox[2])\n",
    "    dic['h'].append(bbox[3])\n",
    "    dic['aspect'].append(float(bbox[2])/float(bbox[3]))\n",
    "    dic['log_aspect']= np.log(float(bbox[2])/float(bbox[3]))\n",
    "    dic['area'].append(anns['annotations'][i]['area'])\n",
    "    dic['log_area'].append(np.log(anns['annotations'][i]['area']))\n",
    "\n",
    "df = pd.DataFrame(dic)\n",
    "\n",
    "print(df.head())"
   ]
  },
  {
   "cell_type": "code",
   "execution_count": 43,
   "metadata": {},
   "outputs": [
    {
     "ename": "SyntaxError",
     "evalue": "invalid syntax (<ipython-input-43-1361c2cd1f8b>, line 16)",
     "output_type": "error",
     "traceback": [
      "\u001b[0;36m  File \u001b[0;32m\"<ipython-input-43-1361c2cd1f8b>\"\u001b[0;36m, line \u001b[0;32m16\u001b[0m\n\u001b[0;31m    print(80*'-')kuangaobi\u001b[0m\n\u001b[0m                         ^\u001b[0m\n\u001b[0;31mSyntaxError\u001b[0m\u001b[0;31m:\u001b[0m invalid syntax\n"
     ]
    }
   ],
   "source": [
    "for cls in category_instancesonly:\n",
    "    print('class: ', cls)\n",
    "    df2 = df[df['category']==cls]\n",
    "    df2['w'].hist(color='b', alpha=0.5, bins=100)\n",
    "    # 使用seaborn绘制\n",
    "    # sns.distplot(df2['w'], bins=100, kde=True, rug=True);\n",
    "    print(df2['w'].describe())\n",
    "    plt.show()\n",
    "    df2['h'].hist(color='b', alpha=0.5, bins=100)\n",
    "    # 使用seaborn绘制\n",
    "    # sns.distplot(df2['h'], bins=100, kde=True, rug=True);\n",
    "    print(df2['h'].describe())\n",
    "    plt.show()\n",
    "    sns.jointplot(x=\"w\", y=\"h\", data=df[df['category']==cls]);\n",
    "    plt.show()\n",
    "    print(80*'-')kuangaobi"
   ]
  },
  {
   "cell_type": "code",
   "execution_count": null,
   "metadata": {},
   "outputs": [],
   "source": []
  },
  {
   "cell_type": "code",
   "execution_count": null,
   "metadata": {},
   "outputs": [],
   "source": []
  },
  {
   "cell_type": "code",
   "execution_count": null,
   "metadata": {},
   "outputs": [],
   "source": []
  }
 ],
 "metadata": {
  "kernelspec": {
   "display_name": "Python 3",
   "language": "python",
   "name": "python3"
  },
  "language_info": {
   "codemirror_mode": {
    "name": "ipython",
    "version": 3
   },
   "file_extension": ".py",
   "mimetype": "text/x-python",
   "name": "python",
   "nbconvert_exporter": "python",
   "pygments_lexer": "ipython3",
   "version": "3.7.1"
  }
 },
 "nbformat": 4,
 "nbformat_minor": 2
}
